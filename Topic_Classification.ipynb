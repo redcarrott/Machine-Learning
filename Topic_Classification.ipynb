{
 "cells": [
  {
   "cell_type": "markdown",
   "metadata": {
    "id": "rWAjdfIsTyhI"
   },
   "source": [
    "# Project 3: Topic Classification using Naive Bayes\n",
    "\n",
    "**Solution**"
   ]
  },
  {
   "cell_type": "markdown",
   "metadata": {
    "id": "p0KwRzrQTyhL"
   },
   "source": [
    "# Intro\n",
    "---\n",
    "In this project, you'll work with text data from newsgroup posts on a variety of topics. You'll train classifiers to distinguish posts by topics inferred from the text. Whereas with digit classification, where each input is relatively **dense** (represented as a 28x28 matrix of pixels, many of which are non-zero), here each document is relatively **sparse** (represented as a **bag-of-words**). Only a few words of the total vocabulary are active in any given document. The assumption is that a label depends only on the count of words, not their order.\n",
    "\n",
    "The `sklearn` documentation on feature extraction may be useful:\n",
    "http://scikit-learn.org/stable/modules/feature_extraction.html\n",
    "\n",
    "Each problem can be addressed succinctly with the included packages -- please don't add any more. Grading will be based on writing clean, commented code, along with a few short answers.\n",
    "\n",
    "As always, you're welcome to work on the project in groups and discuss ideas on Slack, but <b> please prepare your own write-up with your own code. </b>\n",
    "\n",
    "## Grading\n",
    "---\n",
    "- Make sure to answer every part in every question.\n",
    " - There are 7 questions and one extra credit question. \n",
    " - Read carefully what is asked including the notes.\n",
    " - Additional points may be deducted if:\n",
    "   - the code is not clean and well commented, \n",
    "   - and if the functions or answers are too long.\n",
    "\n",
    " ## Requirements:\n",
    "---\n",
    "1. Comment your code.\n",
    "1. All graphs should have titles, label for each axis, and if needed a legend. It should be understandable on its own.\n",
    "1. All code must run on colab.research.google.com\n",
    "1. You should not import any additional libraries.\n",
    "1. Try and minimize the use of the global namespace (meaning keep things in functions).\n",
    "\n"
   ]
  },
  {
   "cell_type": "code",
   "execution_count": 3,
   "metadata": {
    "id": "QNNjknnZTyhN"
   },
   "outputs": [],
   "source": [
    "# This tells matplotlib not to try opening a new window for each plot.\n",
    "%matplotlib inline\n",
    "\n",
    "# General libraries.\n",
    "import re\n",
    "import numpy as np\n",
    "import pandas as pd\n",
    "import matplotlib.pyplot as plt\n",
    "\n",
    "# SK-learn libraries for learning.\n",
    "from sklearn.pipeline import Pipeline\n",
    "from sklearn.neighbors import KNeighborsClassifier\n",
    "from sklearn.linear_model import LogisticRegression\n",
    "from sklearn.naive_bayes import BernoulliNB\n",
    "from sklearn.naive_bayes import MultinomialNB\n",
    "\n",
    "# SK-learn libraries for evaluation.\n",
    "from sklearn.metrics import confusion_matrix\n",
    "from sklearn import metrics\n",
    "from sklearn.metrics import classification_report\n",
    "\n",
    "# SK-learn library for importing the newsgroup data.\n",
    "from sklearn.datasets import fetch_20newsgroups\n",
    "\n",
    "# SK-learn libraries for feature extraction from text.\n",
    "from sklearn.feature_extraction.text import *\n",
    "\n",
    "import nltk"
   ]
  },
  {
   "cell_type": "markdown",
   "metadata": {
    "id": "orEWeRJaTyhO"
   },
   "source": [
    "Load the data, stripping out metadata so that only textual features will be used, and restricting documents to 4 specific topics. By default, newsgroups data is split into training and test sets, but here the test set gets further split into development and test sets.  (If you remove the categories argument from the fetch function calls, you'd get documents from all 20 topics.)"
   ]
  },
  {
   "cell_type": "code",
   "execution_count": 4,
   "metadata": {
    "id": "5b9J-D5DTyhP"
   },
   "outputs": [
    {
     "name": "stdout",
     "output_type": "stream",
     "text": [
      "training label shape: (2034,)\n",
      "dev label shape: (676,)\n",
      "test label shape: (677,)\n",
      "labels names: ['alt.atheism', 'comp.graphics', 'sci.space', 'talk.religion.misc']\n"
     ]
    }
   ],
   "source": [
    "categories = ['alt.atheism', 'talk.religion.misc', 'comp.graphics', 'sci.space']\n",
    "newsgroups_train = fetch_20newsgroups(subset='train',\n",
    "                                      remove=('headers', 'footers', 'quotes'),\n",
    "                                      categories=categories)\n",
    "newsgroups_test  = fetch_20newsgroups(subset='test',\n",
    "                                      remove=('headers', 'footers', 'quotes'),\n",
    "                                      categories=categories)\n",
    "\n",
    "num_test = int(len(newsgroups_test.target) / 2)\n",
    "test_data, test_labels   = newsgroups_test.data[num_test:], newsgroups_test.target[num_test:]\n",
    "dev_data, dev_labels     = newsgroups_test.data[:num_test], newsgroups_test.target[:num_test]\n",
    "train_data, train_labels = newsgroups_train.data, newsgroups_train.target\n",
    "\n",
    "print('training label shape:', train_labels.shape)\n",
    "print('dev label shape:',      dev_labels.shape)\n",
    "print('test label shape:',     test_labels.shape)\n",
    "print('labels names:',         newsgroups_train.target_names)"
   ]
  },
  {
   "cell_type": "markdown",
   "metadata": {
    "id": "zOS6IyT0TyhR"
   },
   "source": [
    "### Question 1: Examining your data\n",
    "---\n",
    "\n",
    " 1. For each of the first 5 training examples, print the text of the message along with the label (checkout newsgroups_train.target_names)."
   ]
  },
  {
   "cell_type": "code",
   "execution_count": 5,
   "metadata": {
    "id": "LFFUipfaTyhS"
   },
   "outputs": [
    {
     "name": "stdout",
     "output_type": "stream",
     "text": [
      "### EXAMPLE 1 for comp.graphics\n",
      "Hi,\n",
      "\n",
      "I've noticed that if you only save a model (with all your mapping planes\n",
      "positioned carefully) to a .3DS file that when you reload it after restarting\n",
      "3DS, they are given a default position and orientation.  But if you save\n",
      "to a .PRJ file their positions/orientation are preserved.  Does anyone\n",
      "know why this information is not stored in the .3DS file?  Nothing is\n",
      "explicitly said in the manual about saving texture rules in the .PRJ file. \n",
      "I'd like to be able to read the texture rule information, does anyone have \n",
      "the format for the .PRJ file?\n",
      "\n",
      "Is the .CEL file format available from somewhere?\n",
      "\n",
      "Rych\n",
      "      \n",
      "### EXAMPLE 2 for talk.religion.misc\n",
      "\n",
      "\n",
      "Seems to be, barring evidence to the contrary, that Koresh was simply\n",
      "another deranged fanatic who thought it neccessary to take a whole bunch of\n",
      "folks with him, children and all, to satisfy his delusional mania. Jim\n",
      "Jones, circa 1993.\n",
      "\n",
      "\n",
      "Nope - fruitcakes like Koresh have been demonstrating such evil corruption\n",
      "for centuries.\n",
      "      \n",
      "### EXAMPLE 3 for sci.space\n",
      "\n",
      " >In article <1993Apr19.020359.26996@sq.sq.com>, msb@sq.sq.com (Mark Brader) \n",
      "\n",
      "MB>                                                             So the\n",
      "MB> 1970 figure seems unlikely to actually be anything but a perijove.\n",
      "\n",
      "JG>Sorry, _perijoves_...I'm not used to talking this language.\n",
      "\n",
      "Couldn't we just say periapsis or apoapsis?\n",
      "\n",
      " \n",
      "      \n",
      "### EXAMPLE 4 for alt.atheism\n",
      "I have a request for those who would like to see Charley Wingate\n",
      "respond to the \"Charley Challenges\" (and judging from my e-mail, there\n",
      "appear to be quite a few of you.)  \n",
      "\n",
      "It is clear that Mr. Wingate intends to continue to post tangential or\n",
      "unrelated articles while ingoring the Challenges themselves.  Between\n",
      "the last two re-postings of the Challenges, I noted perhaps a dozen or\n",
      "more posts by Mr. Wingate, none of which answered a single Challenge.  \n",
      "\n",
      "It seems unmistakable to me that Mr. Wingate hopes that the questions\n",
      "will just go away, and he is doing his level best to change the\n",
      "subject.  Given that this seems a rather common net.theist tactic, I\n",
      "would like to suggest that we impress upon him our desire for answers,\n",
      "in the following manner:\n",
      "\n",
      "1. Ignore any future articles by Mr. Wingate that do not address the\n",
      "Challenges, until he answers them or explictly announces that he\n",
      "refuses to do so.\n",
      "\n",
      "--or--\n",
      "\n",
      "2. If you must respond to one of his articles, include within it\n",
      "something similar to the following:\n",
      "\n",
      "    \"Please answer the questions posed to you in the Charley Challenges.\"\n",
      "\n",
      "Really, I'm not looking to humiliate anyone here, I just want some\n",
      "honest answers.  You wouldn't think that honesty would be too much to\n",
      "ask from a devout Christian, would you?  \n",
      "\n",
      "Nevermind, that was a rhetorical question.\n",
      "      \n",
      "### EXAMPLE 5 for sci.space\n",
      "AW&ST  had a brief blurb on a Manned Lunar Exploration confernce\n",
      "May 7th  at Crystal City Virginia, under the auspices of AIAA.\n",
      "\n",
      "Does anyone know more about this?  How much, to attend????\n",
      "\n",
      "Anyone want to go?\n",
      "      \n"
     ]
    }
   ],
   "source": [
    "def Q1(num_examples=5):\n",
    "    ### STUDENT START ###\n",
    "    \n",
    "    train_ex = newsgroups_train.target_names\n",
    "    \n",
    "    # printing only first examples in the train_data\n",
    "    for i in range (num_examples):\n",
    "        print(\"### EXAMPLE {} for {}\".format(i+1, train_ex[train_labels[i]]))\n",
    "        print(train_data[i])\n",
    "        print(\"      \")\n",
    "    \n",
    "    \n",
    "    ### STUDENT END ###\n",
    "\n",
    "Q1(5)"
   ]
  },
  {
   "cell_type": "markdown",
   "metadata": {
    "id": "r53zpu-mTyhU"
   },
   "source": [
    "### Question 2: Text representation\n",
    "---\n",
    "\n",
    "1. Transform the training data into a matrix of **word** unigram feature vectors.\n",
    "  1. What is the size of the vocabulary? \n",
    "  1. What is the average number of non-zero features per example?  \n",
    "  1. What is the fraction of the non-zero entries in the matrix?  \n",
    "  1. What are the 0th and last feature strings (in alphabetical order)?\n",
    "  - _Use `CountVectorization` and its `.fit_transform` method.  Use `.nnz` and `.shape` attributes, and `.get_feature_names` method._\n",
    "1. Now transform the training data into a matrix of **word** unigram feature vectors restricting to the vocabulary with these 4 words: [\"atheism\", \"graphics\", \"space\", \"religion\"].  Confirm the size of the vocabulary. \n",
    "  1. What is the average number of non-zero features per example?\n",
    "  - _Use `CountVectorization(vocabulary=...)` and its `.transform` method._\n",
    "1. Now transform the training data into a matrix of **character** bigram and trigram feature vectors.  \n",
    "  1. What is the size of the vocabulary?\n",
    "  - _Use `CountVectorization(analyzer=..., ngram_range=...)` and its `.fit_transform` method._\n",
    "1. Now transform the training data into a matrix of **word** unigram feature vectors and prune words that appear in fewer than 10 documents.  \n",
    "  1. What is the size of the vocabulary?<br/>\n",
    "  - _Use `CountVectorization(min_df=...)` and its `.fit_transform` method._\n",
    "1. Now again transform the training data into a matrix of **word** unigram feature vectors. \n",
    " 1. What is the fraction of words in the development vocabulary that is missing from the training vocabulary?\n",
    " - _Hint: Build vocabularies for both train and dev and look at the size of the difference._\n",
    "\n",
    "Notes:\n",
    "* `.fit_transform` makes 2 passes through the data: first it computes the vocabulary (\"fit\"), second it converts the raw text into feature vectors using the vocabulary (\"transform\").\n",
    "* `.fit_transform` and `.transform` return sparse matrix objects.  See about them at http://docs.scipy.org/doc/scipy-0.14.0/reference/generated/scipy.sparse.csr_matrix.html. "
   ]
  },
  {
   "cell_type": "code",
   "execution_count": 13,
   "metadata": {
    "id": "_xkWZwBVTyhV"
   },
   "outputs": [
    {
     "name": "stdout",
     "output_type": "stream",
     "text": [
      "Q1:\n",
      "vocabulary size:  26879\n",
      "avg # of non-zero features per example:  96.70599803343165\n",
      "fraction of the non-zero entries in the matrix:  0.0035978272269590263\n",
      "feature strings (in alphabetical order): 0th is '00', last is 'zyxel'\n",
      "\n",
      "Q2:\n",
      "vocabulary:  {'atheism': 0, 'graphics': 1, 'space': 2, 'religion': 3}\n",
      "vocabulary size:  4\n",
      "average number of non-zero features per example:  0.26843657817109146\n",
      "\n",
      "Q3:\n",
      "character bigram matrix vocabulary size:  3291\n",
      "character trigram matrix vocabulary size:  32187\n",
      "\n",
      "Q4:\n",
      "vocabulary size when min_df=10:  3064\n",
      "\n",
      "Q5:\n",
      "fraction of words in the development vocabulary that is missing from the training vocabulary:  0.24787640034470024\n"
     ]
    }
   ],
   "source": [
    "def Q2():\n",
    "    ### STUDENT START ###\n",
    "    \n",
    "    # 1. Transform the training data into a matrix of word unigram feature vectors.\n",
    "    cv1 = CountVectorizer() # initialize CountVectorizer \n",
    "    v1_train = cv1.fit_transform(train_data) # fit_transform for train_data\n",
    "    print(\"Q1:\")\n",
    "    print(\"vocabulary size: \", v1_train.shape[1])\n",
    "    print(\"avg # of non-zero features per example: \", v1_train.nnz / float(v1_train.shape[0]))\n",
    "    print(\"fraction of the non-zero entries in the matrix: \", v1_train.nnz / (float(v1_train.shape[0]*float(v1_train.shape[1]))))\n",
    "    print(\"feature strings (in alphabetical order): 0th is '{}', last is '{}'\".format(cv1.get_feature_names()[0], cv1.get_feature_names()[-1]))\n",
    "    \n",
    "    # 2. Transform the training data into a matrix of word unigram feature vectors \n",
    "    #restricting to the vocabulary with these 4 words: [\"atheism\", \"graphics\", \"space\", \"religion\"]. Confirm the size of the vocabulary.\n",
    "    vocab = [\"atheism\", \"graphics\", \"space\", \"religion\"]\n",
    "    cv2 = CountVectorizer(vocabulary = vocab)\n",
    "    v2_train = cv2.fit_transform(train_data)\n",
    "    print(\"\\nQ2:\")\n",
    "    print(\"vocabulary: \", cv2.vocabulary_)\n",
    "    print(\"vocabulary size: \", v2_train.shape[1])\n",
    "    print(\"average number of non-zero features per example: \", v2_train.nnz / float(v2_train.shape[0]))\n",
    "    \n",
    "    # 3. Transform the training data into a matrix of character bigram and trigram feature vectors.\n",
    "    # bigram\n",
    "    cv3_b = CountVectorizer(ngram_range=(2,2),analyzer='char')\n",
    "    v3_train_b = cv3_b.fit_transform(train_data)\n",
    "    print(\"\\nQ3:\")\n",
    "    print(\"character bigram matrix vocabulary size: \", v3_train_b.shape[1])\n",
    "    # trigram\n",
    "    cv3_t = CountVectorizer(ngram_range=(3,3),analyzer='char')\n",
    "    v3_train_t = cv3_t.fit_transform(train_data)\n",
    "    print(\"character trigram matrix vocabulary size: \", v3_train_t.shape[1])\n",
    "    \n",
    "    # 4. Transform the training data into a matrix of word unigram feature vectors and prune words that appear in fewer than 10 documents.\n",
    "    cv4 = CountVectorizer(ngram_range=(1,1), min_df=10)\n",
    "    v4_train = cv4.fit_transform(train_data)\n",
    "    print(\"\\nQ4:\")\n",
    "    print(\"vocabulary size when min_df=10: \", v4_train.shape[1])\n",
    "    \n",
    "    # 5. Transform the training data into a matrix of word unigram feature vectors.\n",
    "    \n",
    "    # train data\n",
    "    cv5_train = CountVectorizer()\n",
    "    v5_train = cv5_train.fit_transform(train_data)\n",
    "    \n",
    "    # dev data\n",
    "    cv5_dev = CountVectorizer()\n",
    "    v5_dev = cv5_dev.fit_transform(dev_data)\n",
    "    \n",
    "    # words included in vocabulary for train and dev data \n",
    "    train_words = set(cv5_train.vocabulary_.keys())\n",
    "    dev_words = set(cv5_dev.vocabulary_.keys())\n",
    "    \n",
    "    ratio = (1.0 * len(dev_words) - len(train_words.intersection(dev_words))) / len(dev_words)\n",
    "    print(\"\\nQ5:\")\n",
    "    print(\"fraction of words in the development vocabulary that is missing from the training vocabulary: \", ratio)\n",
    "    \n",
    "    ### STUDENT END ###\n",
    "\n",
    "Q2()"
   ]
  },
  {
   "cell_type": "code",
   "execution_count": null,
   "metadata": {},
   "outputs": [],
   "source": []
  },
  {
   "cell_type": "markdown",
   "metadata": {
    "id": "dIaSTL9OTyhX"
   },
   "source": [
    "### Question 3: Initial model evaluation\n",
    "---\n",
    "\n",
    "1. Transform the training and development data to matrices of word unigram feature vectors.\n",
    "1. Produce several k-Nearest Neigbors models by varying k, including one with k set to optimize f1 score.  For each model, show the k value and f1 score. \n",
    "1. Produce several Naive Bayes models by varying smoothing (alpha), including one with alpha set approximately to optimize f1 score.  For each model, show the alpha value and f1 score.\n",
    "1. Produce several Logistic Regression models by varying L2 regularization strength (C), including one with C set approximately to optimize f1 score.  For each model, show the C value, f1 score, and sum of squared weights for each topic.\n",
    "1. Why doesn't k-Nearest Neighbors work well for this problem?\n",
    "1. Why doesn't Logistic Regression work as well as Naive Bayes does?\n",
    "1. What is the relationship between logistic regression's sum of squared weights vs. C value?\n",
    "\n",
    "Notes:\n",
    "* Train on the transformed training data.\n",
    "* Evaluate on the transformed development data.\n",
    "* You can use `CountVectorizer` and its `.fit_transform` and `.transform` methods to transform data.\n",
    "* You can use `KNeighborsClassifier(...)` to produce a k-Nearest Neighbors model.\n",
    "* You can use `MultinomialNB(...)` to produce a Naive Bayes model.\n",
    "* You can use `LogisticRegression(C=..., solver=\"liblinear\", multi_class=\"auto\")` to produce a Logistic Regression model.\n",
    "* You can use `LogisticRegression`'s `.coef_` method to get weights for each topic.\n",
    "* You can use `metrics.f1_score(..., average=\"weighted\")` to compute f1 score."
   ]
  },
  {
   "cell_type": "code",
   "execution_count": 36,
   "metadata": {
    "id": "g9JvhGBRTyhX"
   },
   "outputs": [
    {
     "name": "stdout",
     "output_type": "stream",
     "text": [
      "Q2: KNN model f1_scores\n",
      "    k        f1\n",
      "0   1  0.380503\n",
      "1   2  0.380542\n",
      "2   3  0.408415\n",
      "3   4  0.403123\n",
      "4   5  0.428761\n",
      "5   6  0.446665\n",
      "6   7  0.450479\n",
      "7   8  0.446984\n",
      "8   9  0.436567\n",
      "9  10  0.427850\n",
      "\n",
      "Q3: Naive Bayes model f1_scores\n",
      "    alpha        f1\n",
      "0   0.009  0.775166\n",
      "1   0.010  0.775166\n",
      "2   0.050  0.785856\n",
      "3   0.051  0.785856\n",
      "4   0.060  0.786201\n",
      "5   0.065  0.786315\n",
      "6   0.067  0.786315\n",
      "7   0.070  0.786315\n",
      "8   0.071  0.786315\n",
      "9   0.072  0.786315\n",
      "10  0.100  0.790305\n",
      "11  0.120  0.788547\n",
      "12  0.200  0.787630\n",
      "\n",
      "Q4: Logistic Regression models\n",
      "       c        f1  alt.atheism  comp.graphics   sci.space  talk.religion.misc\n",
      "0    0.1  0.696624    27.126986      24.665612   27.459314           23.026465\n",
      "1    0.2  0.705873    49.743223      42.749898   49.330854           42.666045\n",
      "2    0.3  0.710085    69.295658      57.861244   67.907191           59.780004\n",
      "3    0.4  0.708282    86.749557      71.154355   84.281757           75.045820\n",
      "4    0.5  0.708474   102.608342      83.102297   99.031914           88.982269\n",
      "5    0.7  0.693914   130.828248     104.141891  124.982330          113.801864\n",
      "6    1.0  0.696086   167.039407     130.931521  157.974401          145.740249\n",
      "7    2.0  0.692368   257.513602     197.880075  239.975701          226.703924\n",
      "8    3.0  0.691044   323.902873     247.722676  299.939552          286.974192\n",
      "9    4.0  0.689437   377.516314     288.162010  348.834633          335.878743\n",
      "10   5.0  0.691011   422.820007     322.447693  390.101825          377.916916\n",
      "11   6.0  0.692496   462.545786     352.894284  425.996832          414.750600\n",
      "12   7.0  0.691017   498.047558     380.047987  458.292188          448.174855\n",
      "13   8.0  0.689451   529.921324     405.225290  487.664949          477.723865\n",
      "14   9.0  0.687851   559.485667     427.260469  514.795001          504.810584\n",
      "15  10.0  0.685104   586.814036     447.862412  539.295525          530.859094\n"
     ]
    }
   ],
   "source": [
    "def Q3():\n",
    "    ### STUDENT START ###\n",
    "    \n",
    "    # 1. Transform the training and development data to matrices of word unigram feature vectors.\n",
    "    cv1 = CountVectorizer()\n",
    "    v_train = cv1.fit_transform(train_data)\n",
    "    v_dev = cv1.transform(dev_data)\n",
    "    \n",
    "    # 2. Produce several k-Nearest Neigbors models by varying k, including one with k set to optimize f1 score. \n",
    "    #For each model, show the k value and f1 score.\n",
    "    f1_knn = []\n",
    "    num_models = 10\n",
    "    # loop to create KNN models and store accuracies \n",
    "    for k in range(1, num_models+1):\n",
    "        knn_model = KNeighborsClassifier(n_neighbors=k)\n",
    "        knn_model.fit(v_train, train_labels)\n",
    "        f1_knn.append(metrics.f1_score(dev_labels, knn_model.predict(v_dev), average=\"weighted\"))\n",
    "    # dataframe to print out key stats for each KNN model\n",
    "    df_KNN = pd.DataFrame({\"k\": range(1, num_models+1), \"f1\": f1_knn})\n",
    "    print(\"Q2: KNN model f1_scores\")\n",
    "    print(df_KNN)\n",
    "    \n",
    "    # 3. Produce several Naive Bayes models by varying smoothing (alpha), \n",
    "    #including one with alpha set approximately to optimize f1 score. For each model, show the alpha value and f1 score.\n",
    "    f1_nb = []\n",
    "    alpha_nb = [0.009, 0.01, 0.05, 0.051, 0.06, 0.065, 0.067, 0.070, 0.071, 0.072, 0.1, 0.12, 0.2]\n",
    "    # loop to create NB models and store accuracies\n",
    "    for alpha in alpha_nb:\n",
    "        nb = MultinomialNB(alpha=alpha)\n",
    "        nb.fit(v_train, train_labels)\n",
    "        f1_nb.append(metrics.f1_score(dev_labels, nb.predict(v_dev), average=\"weighted\"))\n",
    "    # dataframe to print\n",
    "    df_nb = pd.DataFrame({\"alpha\": alpha_nb, \"f1\":f1_nb})\n",
    "    print(\"\\nQ3: Naive Bayes model f1_scores\")\n",
    "    print(df_nb)\n",
    "    \n",
    "    # 4. Produce several Logistic Regression models by varying L2 regularization strength (C), including one with C set approximately to optimize f1 score. \n",
    "    #For each model, show the C value, f1 score, and sum of squared weights for each topic.\n",
    "    f1_LR = []\n",
    "    c_LR = [0.1, 0.2, 0.3, 0.4, 0.5, 0.7, 1, 2, 3, 4, 5, 6, 7, 8, 9, 10]\n",
    "    # loop to run Logistic Regression for diff c-values\n",
    "    topic_weights = np.empty((0, len(newsgroups_train.target_names)))\n",
    "    for c in c_LR:\n",
    "        LR = LogisticRegression(C=c, solver=\"liblinear\", multi_class=\"auto\")\n",
    "        # fit and get f1 score\n",
    "        LR.fit(v_train, train_labels)\n",
    "        f1_LR.append(metrics.f1_score(dev_labels, LR.predict(v_dev), average=\"weighted\"))\n",
    "        # sum of squared weights for each topic\n",
    "        weights = (LR.coef_**2).sum(1)\n",
    "        topic_weights = np.r_[topic_weights, [np.array(weights)]]\n",
    "        \n",
    "    # dataframe to print\n",
    "    df_LR = pd.DataFrame({\"c\": c_LR, \"f1\": f1_LR})\n",
    "    i = 0\n",
    "    for topic in newsgroups_train.target_names:\n",
    "        df_LR[topic] = topic_weights[:,i]\n",
    "        i += 1\n",
    "    print(\"\\nQ4: Logistic Regression models\")\n",
    "    print(df_LR)\n",
    "\n",
    "    ### STUDENT END ###\n",
    "\n",
    "Q3()"
   ]
  },
  {
   "cell_type": "markdown",
   "metadata": {
    "id": "1K9kU5AETyhY"
   },
   "source": [
    "ANSWER: "
   ]
  },
  {
   "cell_type": "markdown",
   "metadata": {},
   "source": [
    "Why doesn't k-Nearest Neighbors work well for this problem?\n",
    "**Because of the curse of dimensionality and the kNN classifier model assumes that similar points share similar labels/positions. Since in higher dimensional spaces the points are drawn from a probability distribution with multiple dimensions, the points do not tned to be close together.**\n",
    "\n",
    "Why doesn't Logistic Regression work as well as Naive Bayes does?\n",
    "**Logistic Regression models may be more sensitive to outliers, which may cause the Naive Bayes to do better — depending on the dataset.**\n",
    "\n",
    "What is the relationship between logistic regression's sum of squared weights vs. C value?\n",
    "**The c-value is equal to 1/lambda, where lambda is the regularization parameter. A larger lambda leads to adding bigger weights in the loss function (resulting in underfitting), so the higher the c, the lower the lambda, and therefore a lower penalty to the loss function.**\n"
   ]
  },
  {
   "cell_type": "markdown",
   "metadata": {
    "id": "b46HltEPTyhY"
   },
   "source": [
    "### Question 4: Feature exploration\n",
    "---\n",
    "\n",
    "1. Transform the data to a matrix of word **bigram** feature vectors.  Produce a Logistic Regression model.\n",
    "1. For each topic, find the 5 features with the largest weights (not absolute value). If there are no overlaps, you can expect 20 features in total.\n",
    "1. Show a 20 row (features) x 4 column (topics) table of the weights. So, for each of the features (words) found, we show their weight for all topics.\n",
    "1. Do you see any surprising features in this table?\n",
    "\n",
    "Notes:\n",
    "* Train on the transformed training data.\n",
    "* You can use `CountVectorizer` and its `.fit_transform` method to transform data.\n",
    "* You can use `LogisticRegression(C=0.5, solver=\"liblinear\", multi_class=\"auto\")` to produce a Logistic Regression model.\n",
    "* You can use `LogisticRegression`'s `.coef_` method to get weights for each topic.\n",
    "* You can use `np.argsort` to get indices sorted by element value. \n"
   ]
  },
  {
   "cell_type": "code",
   "execution_count": 39,
   "metadata": {
    "id": "DerfvONsTyha"
   },
   "outputs": [
    {
     "name": "stdout",
     "output_type": "stream",
     "text": [
      "Top 5 features for alt.atheism\n",
      "['claim that', 'cheers kent', 'was just', 'you are', 'are you']\n",
      "[0.605548549829918, 0.5557194633105557, 0.4820504211026891, 0.47274071300428827, 0.44695366863502217]\n",
      "Top 5 features for comp.graphics\n",
      "['looking for', 'in advance', 'comp graphics', 'out there', 'is there']\n",
      "[1.1083703256045523, 0.8325643308172914, 0.8012152230547809, 0.7586775841277474, 0.754975521326169]\n",
      "Top 5 features for sci.space\n",
      "['the space', 'the moon', 'sci space', 'and such', 'it was']\n",
      "[0.8711649600167557, 0.8312273979987368, 0.6211354224562932, 0.5905568156222766, 0.5253471298059617]\n",
      "Top 5 features for talk.religion.misc\n",
      "['the fbi', 'cheers kent', 'ignorance is', 'but he', 'of jesus']\n",
      "[0.551996652454611, 0.5348275963516955, 0.5043106802231775, 0.49187633500077493, 0.42374395551696237]\n",
      "\n",
      "20 row (features) x 4 column (topics) table of the weights:\n",
      "     Top Features  alt.atheism  comp.graphics  sci.space  talk.religion.misc\n",
      "0   comp graphics    -0.292166      -0.292166  -0.292166           -0.292166\n",
      "1        is there    -0.340882      -0.340882  -0.340882           -0.340882\n",
      "2        was just     0.482050       0.482050   0.482050            0.482050\n",
      "3         you are     0.472741       0.472741   0.472741            0.472741\n",
      "4       out there    -0.274802      -0.274802  -0.274802           -0.274802\n",
      "5     looking for    -0.630341      -0.630341  -0.630341           -0.630341\n",
      "6       sci space    -0.258008      -0.258008  -0.258008           -0.258008\n",
      "7      claim that     0.605549       0.605549   0.605549            0.605549\n",
      "8          it was    -0.203030      -0.203030  -0.203030           -0.203030\n",
      "9          but he    -0.190019      -0.190019  -0.190019           -0.190019\n",
      "10        the fbi    -0.131974      -0.131974  -0.131974           -0.131974\n",
      "11       of jesus    -0.091910      -0.091910  -0.091910           -0.091910\n",
      "12       and such    -0.204269      -0.204269  -0.204269           -0.204269\n",
      "13     in advance    -0.459351      -0.459351  -0.459351           -0.459351\n",
      "14       the moon    -0.350563      -0.350563  -0.350563           -0.350563\n",
      "15   ignorance is    -0.158011      -0.158011  -0.158011           -0.158011\n",
      "16    cheers kent     0.555719       0.555719   0.555719            0.555719\n",
      "17      the space    -0.268188      -0.268188  -0.268188           -0.268188\n",
      "18        are you     0.446954       0.446954   0.446954            0.446954\n"
     ]
    }
   ],
   "source": [
    "def Q4():\n",
    "    ### STUDENT START ###\n",
    "    \n",
    "    # 1. Transform the data to a matrix of word bigram feature vectors. \n",
    "    cv = CountVectorizer(ngram_range = (2,2))\n",
    "    v_train = cv.fit_transform(train_data)\n",
    "    v_dev = cv.transform(dev_data)\n",
    "    \n",
    "    # Produce a Logistic Regression model.\n",
    "    LR = LogisticRegression(C=0.5, solver=\"liblinear\", multi_class=\"auto\")\n",
    "    LR.fit(v_train, train_labels)\n",
    "    \n",
    "    # 2. For each topic, find the 5 features with the largest weights (not absolute value). If there are no overlaps, you can expect 20 features in total.\n",
    "    f_set = set() # get only unique features\n",
    "    for i in range(LR.coef_.shape[0]):\n",
    "        # lists to store top weights and features\n",
    "        f_list = []\n",
    "        coef_list = []\n",
    "        # another loop to find highest ranked feature, and store name + coefficient\n",
    "        for f in sorted(range(len(LR.coef_[i])), key=lambda x: LR.coef_[i][x], reverse=True)[:5]:\n",
    "            f_list.append(str(np.array(cv.get_feature_names())[f]))\n",
    "            coef_list.append(float(LR.coef_[i][f]))\n",
    "        f_set = f_set.union(f_list)\n",
    "        print(\"Top 5 features for\", newsgroups_train.target_names[i])\n",
    "        print(f_list)\n",
    "        print(coef_list)\n",
    "    \n",
    "    # 3. Show a 20 row (features) x 4 column (topics) table of the weights. So, for each of the features (words) found, we show their weight for all topics.\n",
    "    f_set = list(f_set)\n",
    "    df = pd.DataFrame() # initalize dataframe\n",
    "    df[\"Top Features\"] = f_set # store top features in dataframe\n",
    "    # for each topic, add coefficients to dataframe\n",
    "    i = 0\n",
    "    for t in newsgroups_train.target_names:\n",
    "        df[t] = LR.coef_[i][[cv.vocabulary_[z] for z in f_set]]\n",
    "    print(\"\\n20 row (features) x 4 column (topics) table of the weights:\")\n",
    "    print(df)\n",
    "    \n",
    "    # only 19 features in df because \"cheers kent\" in top five features for alt.atheism and talk.religion.misc\n",
    "    # edit later.\n",
    "    \n",
    "    \n",
    "    \n",
    "    ### STUDENT END ###\n",
    "\n",
    "Q4()"
   ]
  },
  {
   "cell_type": "markdown",
   "metadata": {
    "id": "odPhAx_yTyhb"
   },
   "source": [
    "Do you see any surprising features in this table?\n",
    "ANSWER: Highest ranked features for each topic have a positive coefficient, but the coefficient is negative for other topics, which may suggest that each of the top five words are unique for each topic. "
   ]
  },
  {
   "cell_type": "markdown",
   "metadata": {
    "id": "UNC3BCjUTyhb"
   },
   "source": [
    "### Question 5: Pre-processing for text\n",
    "---\n",
    "\n",
    "To improve generalization, it is common to try preprocessing text in various ways before splitting into words. For example, you could try transforming strings to lower case, replacing sequences of numbers with single tokens, removing various non-letter characters, and shortening long words.\n",
    "\n",
    "1. Produce a Logistic Regression model (with no preprocessing of text). **Note that you may need to override the \"default\" preprocessing with an identity function**. Evaluate and show its f1 score and size of the dictionary.\n",
    "1. Produce an improved Logistic Regression model by preprocessing the text. Evaluate and show its f1 score and size of the vocabulary.  Aim for an improvement in f1 score of 0.02. **Note: this is actually very hard**.\n",
    "1. How much did the improved model reduce the vocabulary size?\n",
    "\n",
    "Notes:\n",
    "* Things you can try: ** ???: Anything else we can suggest** \n",
    " - Look at default pre-processing done.\n",
    " - Removing stop words.\n",
    " - Experiment with different ways of getting rid of apostrophe's such as replacing them with spaces or with empty strings.\n",
    "  - Lower casing.\n",
    "  - Including both lowercase and original case versions of a word.\n",
    "  - nltk functions such as stemming.\n",
    "* Train on the \"transformed\" training data, the data after you applied pre-processing.\n",
    "* Evaluate on the transformed development data. Note that you never want to \"learn\" anything from the dev data.\n",
    "* You can use `CountVectorizer(preprocessor=...)` to preprocess strings with your own custom-defined function.\n",
    "* `CountVectorizer` default is to preprocess strings to lower case.\n",
    "* You can use `LogisticRegression(C=0.5, solver=\"liblinear\", multi_class=\"auto\")` to produce a logistic regression model.\n",
    "* You can use `metrics.f1_score(..., average=\"weighted\")` to compute f1 score.\n",
    "* If you're not already familiar with regular expressions for manipulating strings, see https://docs.python.org/2/library/re.html, and re.sub() in particular.\n",
    "* The order you apply pre-processing may produce different results.\n"
   ]
  },
  {
   "cell_type": "code",
   "execution_count": 38,
   "metadata": {},
   "outputs": [],
   "source": [
    "def identityfxn(x):\n",
    "    \"\"\"identify function\"\"\"\n",
    "    return x"
   ]
  },
  {
   "cell_type": "code",
   "execution_count": 46,
   "metadata": {},
   "outputs": [],
   "source": [
    "def preprocess(x):\n",
    "    x = x.lower()\n",
    "    x = re.sub('\\d+', 'NUM', x) #replace any digit with word \"NUM\"\n",
    "    x = re.sub('[^(a-zNUM)]', ' ',x) #replace any sequence starting with letters and NUM with blank\n",
    "    x = ' '.join([y[:5] for y in x.split()]) #split and join only the first 4 characters of each word\n",
    "    return(x)"
   ]
  },
  {
   "cell_type": "code",
   "execution_count": 47,
   "metadata": {
    "id": "3lDatbSPTyhb"
   },
   "outputs": [
    {
     "name": "stdout",
     "output_type": "stream",
     "text": [
      "LR no preprocessing: f1_score = 0.7069109185493502, size of vocab = 33291\n",
      "LR with preprocessing: f1_score = 0.7259792825450058, size of vocab = 15046\n"
     ]
    }
   ],
   "source": [
    "def Q5():\n",
    "    ### STUDENT START ###\n",
    "    \n",
    "    # 1. Produce a Logistic Regression model (with no preprocessing of text). \n",
    "    cv = CountVectorizer(preprocessor=identityfxn)\n",
    "    v_train = cv.fit_transform(train_data)\n",
    "    v_dev = cv.transform(dev_data)\n",
    "    \n",
    "    LR_1 = LogisticRegression(C=0.5, solver=\"liblinear\", multi_class=\"auto\")\n",
    "    LR_1.fit(v_train, train_labels)\n",
    "    print(\"LR no preprocessing: f1_score = {}, size of vocab = {}\".format(metrics.f1_score(dev_labels, LR_1.predict(v_dev), average=\"weighted\"), \n",
    "                                                                         v_train.shape[1]))\n",
    "    \n",
    "    # 2. Produce an improved Logistic Regression model by preprocessing the text. \n",
    "    cv_2 = CountVectorizer(preprocessor=preprocess)\n",
    "    v2_train = cv_2.fit_transform(train_data)\n",
    "    v2_dev = cv_2.transform(dev_data)\n",
    "    \n",
    "    LR_2 = LogisticRegression(C=0.5, solver=\"liblinear\", multi_class=\"auto\")\n",
    "    LR_2.fit(v2_train, train_labels)\n",
    "    print(\"LR with preprocessing: f1_score = {}, size of vocab = {}\".format(metrics.f1_score(dev_labels, LR_2.predict(v2_dev), average=\"weighted\"), \n",
    "                                                                           v2_train.shape[1]))\n",
    "    \n",
    "    \n",
    "    ### STUDENT END ###\n",
    "\n",
    "Q5()"
   ]
  },
  {
   "cell_type": "code",
   "execution_count": 48,
   "metadata": {},
   "outputs": [
    {
     "data": {
      "text/plain": [
       "18245"
      ]
     },
     "execution_count": 48,
     "metadata": {},
     "output_type": "execute_result"
    }
   ],
   "source": [
    "33291 - 15046"
   ]
  },
  {
   "cell_type": "markdown",
   "metadata": {},
   "source": [
    "After preprocessing, the f1_score improved to 0.7259792825450058 while the size of the vocabulary decreased to 15046 (decreased by 18245)."
   ]
  },
  {
   "cell_type": "markdown",
   "metadata": {
    "id": "tLRc7vDBTyhb"
   },
   "source": [
    "### Question 6: L1 and L2 regularization\n",
    "---\n",
    "\n",
    "The idea of regularization is to avoid learning very large weights (which are likely to fit the training data, but not generalize well) by adding a penalty to the total size of the learned weights. Logistic regression seeks the set of weights that minimizes errors in the training data AND has a small total size. The default L2 regularization computes this size as the sum of the squared weights (as in Part 3 above). L1 regularization computes this size as the sum of the absolute values of the weights. Whereas L2 regularization makes all the weights relatively small, **L1 regularization drives many of the weights to 0, effectively removing unimportant features**. For this reason, we can use it as a way to do \"feature selection\".\n",
    "\n",
    "1. For several L1 regularization strengths ...\n",
    "  1. Produce a Logistic Regression model using the **L1** regularization strength.  Reduce the vocabulary to only those features that have at least one non-zero weight among the four categories.\n",
    "  1. Produce a new Logistic Regression model using the reduced vocabulary . For this new model, use an **L2** regularization strength of 0.5.  \n",
    "  1. Evaluate and show the L1 regularization strength, vocabulary size, and f1 score associated with the new model.\n",
    "1. Show a plot of f1 score vs. log vocabulary size.  Each point corresponds to a specific L1 regularization strength used to reduce the vocabulary.\n",
    "1. How does performance of the models based on reduced vocabularies compare to that of a model based on the full vocabulary?\n",
    "\n",
    "Notes:\n",
    "* No need to apply pre-processing from question 5.\n",
    "* Train on the transformed (i.e. CountVectorizer) training data.\n",
    "* Evaluate on the transformed development data (using the CountVectorizer instance you trained on the training data).\n",
    "* You can use `LogisticRegression(..., penalty=\"l1\")` to produce a logistic regression model using L1 regularization.\n",
    "* You can use `LogisticRegression(..., penalty=\"l2\")` to produce a logistic regression model using L2 regularization.\n",
    "* You can use `LogisticRegression(..., tol=0.015)` to produce a logistic regression model using relaxed gradient descent convergence criteria.  The gradient descent code that trains the logistic regression model sometimes has trouble converging with extreme settings of the C parameter. Relax the convergence criteria by setting tol=.015 (the default is .0001).\n",
    "* (solver=\"liblinear\" might be needed for it not to crash)"
   ]
  },
  {
   "cell_type": "code",
   "execution_count": 58,
   "metadata": {
    "id": "7dva_PsvTyhb"
   },
   "outputs": [
    {
     "name": "stderr",
     "output_type": "stream",
     "text": [
      "/opt/conda/lib/python3.7/site-packages/sklearn/svm/_base.py:986: ConvergenceWarning: Liblinear failed to converge, increase the number of iterations.\n",
      "  \"the number of iterations.\", ConvergenceWarning)\n",
      "/opt/conda/lib/python3.7/site-packages/sklearn/svm/_base.py:986: ConvergenceWarning: Liblinear failed to converge, increase the number of iterations.\n",
      "  \"the number of iterations.\", ConvergenceWarning)\n",
      "/opt/conda/lib/python3.7/site-packages/sklearn/svm/_base.py:986: ConvergenceWarning: Liblinear failed to converge, increase the number of iterations.\n",
      "  \"the number of iterations.\", ConvergenceWarning)\n",
      "/opt/conda/lib/python3.7/site-packages/sklearn/svm/_base.py:986: ConvergenceWarning: Liblinear failed to converge, increase the number of iterations.\n",
      "  \"the number of iterations.\", ConvergenceWarning)\n"
     ]
    },
    {
     "name": "stdout",
     "output_type": "stream",
     "text": [
      "F1 score for models:\n",
      "       c  vocab_size     F1_L1  vocab_reduced  F1_L1_reduced  F1_L2_reduced\n",
      "0  0.001       26879  0.244928              1       0.184192       0.230184\n",
      "1  0.010       26879  0.422068             12       0.405649       0.422902\n",
      "2  0.100       26879  0.649347            147       0.627724       0.642203\n",
      "3  0.200       26879  0.693600            263       0.662835       0.669202\n",
      "4  0.400       26879  0.700392            470       0.677777       0.670328\n",
      "5  0.600       26879  0.694524            609       0.675470       0.683544\n",
      "6  1.000       26879  0.696850            754       0.691118       0.692861\n",
      "7  1.100       26879  0.690475            833       0.684291       0.684069\n",
      "8  1.500       26879  0.699858            872       0.687153       0.693102\n"
     ]
    },
    {
     "data": {
      "image/png": "[encoded data removed]",
      "text/plain": [
       "<Figure size 432x288 with 1 Axes>"
      ]
     },
     "metadata": {
      "needs_background": "light"
     },
     "output_type": "display_data"
    }
   ],
   "source": [
    "def Q6():\n",
    "    # Keep this random seed here to make comparison easier.\n",
    "    np.random.seed(0)\n",
    "\n",
    "    ### STUDENT START ###\n",
    "    \n",
    "    # store f1_score, vocab size and reduced vocabulary for Linear Regression models\n",
    "    #complete vocab\n",
    "    name = []\n",
    "    f1_score = []\n",
    "    vocab_size = []\n",
    "    reduced_vocab = []\n",
    "    #reduced vocab\n",
    "    name_l1 = []\n",
    "    f1_l1 = []\n",
    "    vocab_l1 = []\n",
    "    name_l2 = []\n",
    "    f1_l2 = []\n",
    "    vocab_l2 = []\n",
    "    \n",
    "    # loop for Linear Regression models \n",
    "    c_list = [0.001, 0.01, 0.1, 0.2, 0.4, 0.6, 1, 1.1, 1.5]\n",
    "    for c in c_list:\n",
    "        # L1 regualization with complete vocab\n",
    "        cv = CountVectorizer()\n",
    "        v_train = cv.fit_transform(train_data)\n",
    "        v_dev = cv.transform(dev_data)\n",
    "        LR_1 = LogisticRegression(C=c, solver=\"liblinear\", multi_class=\"auto\", penalty='l1', tol=0.015)\n",
    "        LR_1.fit(v_train, train_labels)\n",
    "        #store info\n",
    "        name.append(\"L1\")\n",
    "        f1_score.append(metrics.f1_score(dev_labels, LR_1.predict(v_dev), average=\"weighted\"))\n",
    "        vocab_size.append(v_train.shape[1])\n",
    "        \n",
    "        ### reduce vocab (Reduce the vocabulary to only those features that have at least one non-zero weight among the four categories.)\n",
    "        set_zeros = set()\n",
    "        for i in range(len(newsgroups_train.target_names)):\n",
    "            temp = np.where(LR_1.coef_[i]!=0)\n",
    "            if len(set_zeros) == 0:\n",
    "                set_zeros = temp\n",
    "        else:\n",
    "            if type(set_zeros) != set:\n",
    "                set_zeros = set(set_zeros[0])\n",
    "            if type(temp) != set:\n",
    "                temp = set(temp[0])\n",
    "            set_zeros = set_zeros.union(temp)\n",
    "        new_vocab = []\n",
    "        for key,value in cv.vocabulary_.items():\n",
    "            if value in set_zeros:\n",
    "                new_vocab.append(key)\n",
    "        reduced_vocab.append(len(new_vocab))\n",
    "        \n",
    "        # L1 - reduced vocab \n",
    "        cv_l1 = CountVectorizer(vocabulary = new_vocab)\n",
    "        v_train = cv_l1.fit_transform(train_data)\n",
    "        v_dev = cv_l1.transform(dev_data)\n",
    "        LR_2 = LogisticRegression(C=c, solver=\"liblinear\", multi_class=\"auto\", penalty='l1', tol=0.015)\n",
    "        LR_2.fit(v_train, train_labels)\n",
    "        name_l1.append(\"L1_reduced\")\n",
    "        f1_l1.append(metrics.f1_score(dev_labels, LR_2.predict(v_dev), average=\"weighted\"))\n",
    "        vocab_l1.append(v_train.shape[1])\n",
    "        \n",
    "        # L2 - reduced vocab\n",
    "        cv_l2 = CountVectorizer(vocabulary = new_vocab)\n",
    "        v_train = cv_l2.fit_transform(train_data)\n",
    "        v_dev = cv_l2.transform(dev_data)\n",
    "        LR_3 = LogisticRegression(C=c, solver=\"liblinear\", multi_class=\"auto\", penalty='l2', tol=0.015)\n",
    "        LR_3.fit(v_train, train_labels)\n",
    "        name_l2.append(\"L2_reduced\")\n",
    "        f1_l2.append(metrics.f1_score(dev_labels, LR_3.predict(v_dev), average=\"weighted\"))\n",
    "        vocab_l2.append(v_train.shape[1])\n",
    "        \n",
    "    # create dataframe\n",
    "    df = pd.DataFrame({\"c\": c_list, \"vocab_size\": vocab_size, \"F1_L1\": f1_score, \"vocab_reduced\": vocab_l1, \"F1_L1_reduced\": f1_l1, \"F1_L2_reduced\": f1_l2})\n",
    "    print(\"F1 score for models:\")\n",
    "    print(df)\n",
    "    \n",
    "    # graph\n",
    "    fig, axs = plt.subplots(nrows=1, ncols=1)\n",
    "    axs.plot(np.log(df[\"vocab_reduced\"]), df[\"F1_L1_reduced\"], label = \"F1 score L1 regularization (reduced vocab)\")\n",
    "    axs.plot(np.log(df[\"vocab_reduced\"]), df[\"F1_L2_reduced\"], label = \"F1 score L2 regularization (reduced vocab)\")\n",
    "    axs.plot(np.log(df[\"vocab_reduced\"]), df[\"F1_L1\"], label = \"F1 score L1 regularization (complete vocab)\")\n",
    "    axs.set_xlabel(\"log of Vocab Size\")\n",
    "    axs.set_ylabel(\"F1 score vs. log(Vocab Size)\")\n",
    "    axs.legend()\n",
    "    \n",
    "    \n",
    "    ### STUDENT END ###\n",
    "\n",
    "Q6()"
   ]
  },
  {
   "cell_type": "markdown",
   "metadata": {
    "id": "XbrmPrLaTyhc"
   },
   "source": [
    "ANSWER: Using the complete vocabulary seems to perform better than using a reduced vocabulary with both L1 and L2 regularizations; however, compared to L1 reduced vocab, the L2 performs better. "
   ]
  },
  {
   "cell_type": "markdown",
   "metadata": {
    "id": "AQJQimS8Tyhd"
   },
   "source": [
    "### Question 7: TfIdf\n",
    "---\n",
    "As you may recall [tf-idf](https://en.wikipedia.org/wiki/Tf%E2%80%93idf) stands for *term frequency inverse document frequency* and is a way to assign a weight to each word or token signifying their importance for a document in a corpus (a collection of documents).\n",
    "\n",
    "Produce a Logistic Regression model based on data represented in tf-idf form, with L2 regularization strength of 100.  Evaluate and show the f1 score.  How is `TfidfVectorizer` different than `CountVectorizer`?\n",
    "\n",
    "1. How is `TfidfVectorizer` different than `CountVectorizer`?\n",
    "1. Show the 3 documents with highest R ratio, where ...\n",
    "  - $R\\,ratio = maximum\\,predicted\\,probability \\div predicted\\,probability\\,of\\,correct\\,label$\n",
    "1. Explain what the R ratio describes.\n",
    "1. What kinds of mistakes is the model making? Suggest a way to address one particular issue that you see.\n",
    "\n",
    "Note:\n",
    "* Train on the transformed training data.\n",
    "* Evaluate on the transformed development data.\n",
    "* You can use `TfidfVectorizer` and its `.fit_transform` method to transform data to tf-idf form.\n",
    "* You can use `LogisticRegression(C=100, solver=\"liblinear\", multi_class=\"auto\")` to produce a logistic regression model.\n",
    "* You can use `LogisticRegression`'s `.predict_proba` method to access predicted probabilities."
   ]
  },
  {
   "cell_type": "code",
   "execution_count": 68,
   "metadata": {
    "id": "Llsrh11LTyhd"
   },
   "outputs": [
    {
     "name": "stdout",
     "output_type": "stream",
     "text": [
      "F1 score of Logistic Regression:  0.7597662427853104\n",
      "\n",
      "### Document number:  215\n",
      "correct topic:  talk.religion.misc\n",
      "predicted topic:  comp.graphics\n",
      "R ratio:  929.3578934957275\n",
      " -- \n",
      "I am pleased to announce that a *revised version* of _The Easy-to-Read Book\n",
      "of Mormon_ (former title: _Mormon's Book_) by Lynn Matthews Anderson is now\n",
      "available through anonymous ftp (see information below). In addition to the\n",
      "change in title, the revised ETR BOM has been shortened by several pages\n",
      "(eliminating many extraneous \"that's\" and \"of's\"), and many (minor) errors\n",
      "have been corrected. This release includes a simplified Joseph Smith Story,\n",
      "testimonies of the three and eight witnesses, and a \"Words-to-Know\"\n",
      "glossary.\n",
      "\n",
      "As with the previous announcement, readers are reminded that this is a\n",
      "not-for-profit endeavor. This is a copyrighted work, but people are welcome\n",
      "to make *verbatim* copies for personal use. People can recuperate the\n",
      "actual costs of printing (paper, copy center charges), but may not charge\n",
      "anything for their time in making copies, or in any way realize a profit\n",
      "from the use of this book. See the permissions notice in the book itself\n",
      "for the precise terms.\n",
      "\n",
      "Negotiations are currently underway with a Mormon publisher vis-a-vis the\n",
      "printing and distribution of bound books. (Sorry, I'm out of the wire-bound\n",
      "\"first editions.\") I will make another announcement about the availability\n",
      "of printed copies once everything has been worked out.\n",
      "\n",
      "FTP information: connect via anonymous ftp to carnot.itc.cmu.edu, then \"cd\n",
      "pub\" (you won't see anything at all until you do).\n",
      "\n",
      "\"The Easy-to-Read Book of Mormon\" is currently available in postscript and\n",
      "RTF (rich text format). (ASCII, LaTeX, and other versions can be made\n",
      "available; contact dba@andrew.cmu.edu for details.) You should be able to\n",
      "print the postscript file on any postscript printer (such as an Apple\n",
      "Laserwriter); let dba know if you have any difficulties. (The postscript in\n",
      "the last release had problems on some printers; this time it should work\n",
      "better.) RTF is a standard document interchange format that can be read in\n",
      "by a number of word processors, including Microsoft Word for both the\n",
      "Macintosh and Windows. If you don't have a postscript printer, you may be\n",
      "able to use the RTF file to print out a copy of the book.\n",
      "\n",
      "-r--r--r--  1 dba                   1984742 Apr 27 13:12 etrbom.ps\n",
      "-r--r--r--  1 dba                   1209071 Apr 27 13:13 etrbom.rtf\n",
      "\n",
      "For more information about how this project came about, please refer to my\n",
      "article in the current issue of _Sunstone_, entitled \"Delighting in\n",
      "Plainness: Issues Surrounding a Simple Modern English Book of Mormon.\"\n",
      "\n",
      "Send all inquiries and comments to:\n",
      "\n",
      "    Lynn Matthews Anderson\n",
      "    5806 Hampton Street\n",
      "    Pittsburgh, PA 15206\n",
      "\n",
      "### Document number:  665\n",
      "correct topic:  talk.religion.misc\n",
      "predicted topic:  comp.graphics\n",
      "R ratio:  325.00395324358675\n",
      " -- \n",
      "Can anyone provide me a ftp site where I can obtain a online version\n",
      "of the Book of Mormon. Please email the internet address if possible.\n",
      "\n",
      "### Document number:  607\n",
      "correct topic:  alt.atheism\n",
      "predicted topic:  talk.religion.misc\n",
      "R ratio:  287.30725387509585\n",
      " -- \n",
      "\n",
      "The 24 children were, of course, killed by a lone gunman in a second story\n",
      "window, who fired eight bullets in the space of two seconds...\n",
      "\n"
     ]
    }
   ],
   "source": [
    "def Q7():\n",
    "    ### STUDENT START ###\n",
    "    \n",
    "    cv = TfidfVectorizer()\n",
    "    v_train = cv.fit_transform(train_data)\n",
    "    v_dev = cv.transform(dev_data)\n",
    "    \n",
    "    LR = LogisticRegression(C=100, solver=\"liblinear\", multi_class=\"auto\")\n",
    "    LR.fit(v_train, train_labels)\n",
    "    predictions = LR.predict(v_dev)\n",
    "    print(\"F1 score of Logistic Regression: \", metrics.f1_score(dev_labels, predictions, average=\"weighted\"))\n",
    "    \n",
    "    pred_prob = LR.predict_proba(v_dev)\n",
    "    \n",
    "    r_ratios = []\n",
    "    i = 0\n",
    "    for p in pred_prob:\n",
    "        max_p = p.max()\n",
    "        max_topic = np.where(p == max_p)\n",
    "        r_ratios.append(max_p / p[dev_labels[i]])\n",
    "        i +=1\n",
    "    \n",
    "    highest_docs = sorted(range(len(r_ratios)), key=lambda i: r_ratios[i], reverse=True)[:3]\n",
    "    for i in highest_docs:\n",
    "        print(\"\\n### Document number: \", i)\n",
    "        print(\"correct topic: \", newsgroups_train.target_names[dev_labels[i]])\n",
    "        print(\"predicted topic: \", newsgroups_train.target_names[predictions[i]])\n",
    "        print(\"R ratio: \", r_ratios[i])\n",
    "        print(\" -- \")\n",
    "        print(dev_data[i])\n",
    "    \n",
    "    \n",
    "    \n",
    "    \n",
    "    ### STUDENT END ###\n",
    "\n",
    "Q7()"
   ]
  },
  {
   "cell_type": "markdown",
   "metadata": {
    "id": "w7SnJ7mTTyhe"
   },
   "source": [
    "ANSWER: \n",
    "\n",
    "1. Whereas CountVectorizer counts the number of times a word appears in the document (which may bias frequent words and penalize rare words), TfidfVectorizer looks at the overall document weight of the word and normalizes the count based on the frequency of the word. \n",
    "\n",
    "3. The R ratio describes the relationship between the probability used to classify a document and the predicted probability of its correct label. If the model correctly classifies the document, the R ratio would be one. \n",
    "\n",
    "4. The model seems to give a lot of weight to computer related words, even though the documents are on religious topics. So, to account for these errors, you would have to increase the weight of \"mormon\" for the documents related to religion. "
   ]
  },
  {
   "cell_type": "markdown",
   "metadata": {
    "id": "Smtoa6tHTyhf"
   },
   "source": [
    "### Question 8 EXTRA CREDIT:\n",
    "---\n",
    "Produce a Logistic Regression model to implement your suggestion from Part 7."
   ]
  },
  {
   "cell_type": "code",
   "execution_count": null,
   "metadata": {
    "id": "uCLc-do1Tyhf"
   },
   "outputs": [],
   "source": []
  }
 ],
 "metadata": {
  "colab": {
   "collapsed_sections": [],
   "name": "firstname_lastname_project3.ipynb",
   "provenance": []
  },
  "environment": {
   "name": "tf2-gpu.2-6.m80",
   "type": "gcloud",
   "uri": "gcr.io/deeplearning-platform-release/tf2-gpu.2-6:m80"
  },
  "kernelspec": {
   "display_name": "Python 3",
   "language": "python",
   "name": "python3"
  },
  "language_info": {
   "codemirror_mode": {
    "name": "ipython",
    "version": 3
   },
   "file_extension": ".py",
   "mimetype": "text/x-python",
   "name": "python",
   "nbconvert_exporter": "python",
   "pygments_lexer": "ipython3",
   "version": "3.7.10"
  },
  "toc": {
   "base_numbering": 1,
   "nav_menu": {},
   "number_sections": false,
   "sideBar": true,
   "skip_h1_title": true,
   "title_cell": "Table of Contents",
   "title_sidebar": "Contents",
   "toc_cell": false,
   "toc_position": {},
   "toc_section_display": true,
   "toc_window_display": false
  }
 },
 "nbformat": 4,
 "nbformat_minor": 4
}
