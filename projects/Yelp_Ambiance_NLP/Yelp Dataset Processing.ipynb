{
 "cells": [
  {
   "cell_type": "code",
   "execution_count": 2,
   "metadata": {},
   "outputs": [],
   "source": [
    "import numpy as np\n",
    "import pandas as pd"
   ]
  },
  {
   "cell_type": "code",
   "execution_count": 3,
   "metadata": {},
   "outputs": [],
   "source": [
    "b_pandas = []\n",
    "r_dtypes = {\"review_id\": str, \n",
    "            \"user_id\": np.float16, \n",
    "            \"business_id\": np.float16, \n",
    "            \"stars\": np.float16, \n",
    "            \"date\": str, \n",
    "            \"text\": str,\n",
    "            \"useful\": np.int32, \n",
    "            \"funny\": np.int32,\n",
    "            \"cool\": np.int32\n",
    "           }\n",
    "with open(\"/Users/jeremyyeung/Downloads/yelp_dataset/yelp_academic_dataset_review.json\", \"r\") as f:\n",
    "    reader = pd.read_json(f, orient=\"records\", lines=True, \n",
    "                          dtype=r_dtypes, chunksize=1000)\n",
    "        \n",
    "    for chunk in reader:\n",
    "        reduced_chunk = chunk.query(\"`date` >= '2017-12-01'\")\n",
    "        b_pandas.append(reduced_chunk)\n",
    "    \n",
    "b_pandas = pd.concat(b_pandas, ignore_index=True)"
   ]
  },
  {
   "cell_type": "code",
   "execution_count": 4,
   "metadata": {},
   "outputs": [
    {
     "data": {
      "text/plain": [
       "(2845251, 9)"
      ]
     },
     "execution_count": 4,
     "metadata": {},
     "output_type": "execute_result"
    }
   ],
   "source": [
    "b_pandas.shape"
   ]
  },
  {
   "cell_type": "code",
   "execution_count": 5,
   "metadata": {},
   "outputs": [],
   "source": [
    "b_pandas.to_csv('reviews.csv', index=False)  "
   ]
  },
  {
   "cell_type": "code",
   "execution_count": 16,
   "metadata": {},
   "outputs": [],
   "source": [
    "# compression_opts = dict(method='zip',\n",
    "#                         archive_name='reviews.csv')  \n",
    "# b_pandas.to_csv('reviews.zip', index=False,\n",
    "#           compression=compression_opts)  "
   ]
  },
  {
   "cell_type": "code",
   "execution_count": 41,
   "metadata": {},
   "outputs": [],
   "source": [
    "\n",
    "b_pandas.iloc[range(20000), :].to_csv('20k_reviews.csv', index=False)\n"
   ]
  },
  {
   "cell_type": "code",
   "execution_count": 4,
   "metadata": {},
   "outputs": [],
   "source": [
    "b_pandas = []\n",
    "r_dtypes = {\"business_id\": np.str,\n",
    "            \"name\": np.str, \n",
    "            \"address\": np.str, \n",
    "            \"city\": np.str, \n",
    "            \"state\": np.str, \n",
    "            \"postal code\": np.str, \n",
    "            \"latitude\": np.float16, \n",
    "            \"longitude\": np.float16, \n",
    "            \"stars\": np.float16, \n",
    "            \"review_count\": np.int32,\n",
    "            \"is_open\": np.int32,\n",
    "            \"attributes\": dict,\n",
    "            \"categories\": np.ndarray\n",
    "           }\n",
    "with open(\"/Users/jeremyyeung/Downloads/yelp_dataset/yelp_academic_dataset_business.json\", \"r\") as f:\n",
    "    reader = pd.read_json(f, orient=\"records\", lines=True, \n",
    "                          dtype=r_dtypes, chunksize=1000)\n",
    "        \n",
    "    for chunk in reader:\n",
    "        reduced_chunk = chunk.drop(columns=['latitude', 'longitude', 'address', 'city', 'state'])\n",
    "        b_pandas.append(reduced_chunk)\n",
    "    \n",
    "b_pandas = pd.concat(b_pandas, ignore_index=True)\n",
    "# compression_opts = dict(method='zip',\n",
    "#                         archive_name='business.csv')  \n",
    "# b_pandas.to_csv('business.csv', index=False)\n",
    "#           compression=compression_opts)  "
   ]
  },
  {
   "cell_type": "code",
   "execution_count": 6,
   "metadata": {},
   "outputs": [
    {
     "data": {
      "text/plain": [
       "dict"
      ]
     },
     "execution_count": 6,
     "metadata": {},
     "output_type": "execute_result"
    }
   ],
   "source": [
    "type(b_pandas.attributes[0])"
   ]
  },
  {
   "cell_type": "code",
   "execution_count": 7,
   "metadata": {},
   "outputs": [
    {
     "data": {
      "text/plain": [
       "dict_keys(['RestaurantsTableService', 'WiFi', 'BikeParking', 'BusinessParking', 'BusinessAcceptsCreditCards', 'RestaurantsReservations', 'WheelchairAccessible', 'Caters', 'OutdoorSeating', 'RestaurantsGoodForGroups', 'HappyHour', 'BusinessAcceptsBitcoin', 'RestaurantsPriceRange2', 'Ambience', 'HasTV', 'Alcohol', 'GoodForMeal', 'DogsAllowed', 'RestaurantsTakeOut', 'NoiseLevel', 'RestaurantsAttire', 'RestaurantsDelivery'])"
      ]
     },
     "execution_count": 7,
     "metadata": {},
     "output_type": "execute_result"
    }
   ],
   "source": [
    "b_pandas.attributes[0].keys()"
   ]
  },
  {
   "cell_type": "code",
   "execution_count": 7,
   "metadata": {},
   "outputs": [],
   "source": [
    "## get half of the business csv\n",
    "b_pandas.iloc[range(b_pandas.shape[0]//2), :].to_excel('half_business.xlsx', index=False)\n"
   ]
  },
  {
   "cell_type": "code",
   "execution_count": 9,
   "metadata": {},
   "outputs": [
    {
     "data": {
      "text/html": [
       "<div>\n",
       "<style scoped>\n",
       "    .dataframe tbody tr th:only-of-type {\n",
       "        vertical-align: middle;\n",
       "    }\n",
       "\n",
       "    .dataframe tbody tr th {\n",
       "        vertical-align: top;\n",
       "    }\n",
       "\n",
       "    .dataframe thead th {\n",
       "        text-align: right;\n",
       "    }\n",
       "</style>\n",
       "<table border=\"1\" class=\"dataframe\">\n",
       "  <thead>\n",
       "    <tr style=\"text-align: right;\">\n",
       "      <th></th>\n",
       "      <th>name</th>\n",
       "      <th>postal_code</th>\n",
       "      <th>stars</th>\n",
       "      <th>review_count</th>\n",
       "      <th>is_open</th>\n",
       "      <th>attributes</th>\n",
       "      <th>categories</th>\n",
       "      <th>hours</th>\n",
       "    </tr>\n",
       "    <tr>\n",
       "      <th>business_id</th>\n",
       "      <th></th>\n",
       "      <th></th>\n",
       "      <th></th>\n",
       "      <th></th>\n",
       "      <th></th>\n",
       "      <th></th>\n",
       "      <th></th>\n",
       "      <th></th>\n",
       "    </tr>\n",
       "  </thead>\n",
       "  <tbody>\n",
       "    <tr>\n",
       "      <th>6iYb2HFDywm3zjuRg0shjw</th>\n",
       "      <td>Oskar Blues Taproom</td>\n",
       "      <td>80302</td>\n",
       "      <td>4.0</td>\n",
       "      <td>86</td>\n",
       "      <td>1</td>\n",
       "      <td>{'RestaurantsTableService': 'True', 'WiFi': \"u...</td>\n",
       "      <td>Gastropubs, Food, Beer Gardens, Restaurants, B...</td>\n",
       "      <td>{'Monday': '11:0-23:0', 'Tuesday': '11:0-23:0'...</td>\n",
       "    </tr>\n",
       "    <tr>\n",
       "      <th>tCbdrRPZA0oiIYSmHG3J0w</th>\n",
       "      <td>Flying Elephants at PDX</td>\n",
       "      <td>97218</td>\n",
       "      <td>4.0</td>\n",
       "      <td>126</td>\n",
       "      <td>1</td>\n",
       "      <td>{'RestaurantsTakeOut': 'True', 'RestaurantsAtt...</td>\n",
       "      <td>Salad, Soup, Sandwiches, Delis, Restaurants, C...</td>\n",
       "      <td>{'Monday': '5:0-18:0', 'Tuesday': '5:0-17:0', ...</td>\n",
       "    </tr>\n",
       "    <tr>\n",
       "      <th>bvN78flM8NLprQ1a1y5dRg</th>\n",
       "      <td>The Reclaimory</td>\n",
       "      <td>97214</td>\n",
       "      <td>4.5</td>\n",
       "      <td>13</td>\n",
       "      <td>1</td>\n",
       "      <td>{'BusinessAcceptsCreditCards': 'True', 'Restau...</td>\n",
       "      <td>Antiques, Fashion, Used, Vintage &amp; Consignment...</td>\n",
       "      <td>{'Thursday': '11:0-18:0', 'Friday': '11:0-18:0...</td>\n",
       "    </tr>\n",
       "    <tr>\n",
       "      <th>oaepsyvc0J17qwi8cfrOWg</th>\n",
       "      <td>Great Clips</td>\n",
       "      <td>32763</td>\n",
       "      <td>3.0</td>\n",
       "      <td>8</td>\n",
       "      <td>1</td>\n",
       "      <td>{'RestaurantsPriceRange2': '1', 'BusinessAccep...</td>\n",
       "      <td>Beauty &amp; Spas, Hair Salons</td>\n",
       "      <td>NaN</td>\n",
       "    </tr>\n",
       "    <tr>\n",
       "      <th>PE9uqAjdw0E4-8mjGl3wVA</th>\n",
       "      <td>Crossfit Terminus</td>\n",
       "      <td>30316</td>\n",
       "      <td>4.0</td>\n",
       "      <td>14</td>\n",
       "      <td>1</td>\n",
       "      <td>{'GoodForKids': 'False', 'BusinessParking': \"{...</td>\n",
       "      <td>Gyms, Active Life, Interval Training Gyms, Fit...</td>\n",
       "      <td>{'Monday': '16:0-19:0', 'Tuesday': '16:0-19:0'...</td>\n",
       "    </tr>\n",
       "  </tbody>\n",
       "</table>\n",
       "</div>"
      ],
      "text/plain": [
       "                                           name postal_code  stars  \\\n",
       "business_id                                                          \n",
       "6iYb2HFDywm3zjuRg0shjw      Oskar Blues Taproom       80302    4.0   \n",
       "tCbdrRPZA0oiIYSmHG3J0w  Flying Elephants at PDX       97218    4.0   \n",
       "bvN78flM8NLprQ1a1y5dRg           The Reclaimory       97214    4.5   \n",
       "oaepsyvc0J17qwi8cfrOWg              Great Clips       32763    3.0   \n",
       "PE9uqAjdw0E4-8mjGl3wVA        Crossfit Terminus       30316    4.0   \n",
       "\n",
       "                        review_count  is_open  \\\n",
       "business_id                                     \n",
       "6iYb2HFDywm3zjuRg0shjw            86        1   \n",
       "tCbdrRPZA0oiIYSmHG3J0w           126        1   \n",
       "bvN78flM8NLprQ1a1y5dRg            13        1   \n",
       "oaepsyvc0J17qwi8cfrOWg             8        1   \n",
       "PE9uqAjdw0E4-8mjGl3wVA            14        1   \n",
       "\n",
       "                                                               attributes  \\\n",
       "business_id                                                                 \n",
       "6iYb2HFDywm3zjuRg0shjw  {'RestaurantsTableService': 'True', 'WiFi': \"u...   \n",
       "tCbdrRPZA0oiIYSmHG3J0w  {'RestaurantsTakeOut': 'True', 'RestaurantsAtt...   \n",
       "bvN78flM8NLprQ1a1y5dRg  {'BusinessAcceptsCreditCards': 'True', 'Restau...   \n",
       "oaepsyvc0J17qwi8cfrOWg  {'RestaurantsPriceRange2': '1', 'BusinessAccep...   \n",
       "PE9uqAjdw0E4-8mjGl3wVA  {'GoodForKids': 'False', 'BusinessParking': \"{...   \n",
       "\n",
       "                                                               categories  \\\n",
       "business_id                                                                 \n",
       "6iYb2HFDywm3zjuRg0shjw  Gastropubs, Food, Beer Gardens, Restaurants, B...   \n",
       "tCbdrRPZA0oiIYSmHG3J0w  Salad, Soup, Sandwiches, Delis, Restaurants, C...   \n",
       "bvN78flM8NLprQ1a1y5dRg  Antiques, Fashion, Used, Vintage & Consignment...   \n",
       "oaepsyvc0J17qwi8cfrOWg                         Beauty & Spas, Hair Salons   \n",
       "PE9uqAjdw0E4-8mjGl3wVA  Gyms, Active Life, Interval Training Gyms, Fit...   \n",
       "\n",
       "                                                                    hours  \n",
       "business_id                                                                \n",
       "6iYb2HFDywm3zjuRg0shjw  {'Monday': '11:0-23:0', 'Tuesday': '11:0-23:0'...  \n",
       "tCbdrRPZA0oiIYSmHG3J0w  {'Monday': '5:0-18:0', 'Tuesday': '5:0-17:0', ...  \n",
       "bvN78flM8NLprQ1a1y5dRg  {'Thursday': '11:0-18:0', 'Friday': '11:0-18:0...  \n",
       "oaepsyvc0J17qwi8cfrOWg                                                NaN  \n",
       "PE9uqAjdw0E4-8mjGl3wVA  {'Monday': '16:0-19:0', 'Tuesday': '16:0-19:0'...  "
      ]
     },
     "execution_count": 9,
     "metadata": {},
     "output_type": "execute_result"
    }
   ],
   "source": [
    "test = pd.read_excel('half_business.xlsx', index_col=0)\n",
    "test.head()"
   ]
  },
  {
   "cell_type": "code",
   "execution_count": 10,
   "metadata": {},
   "outputs": [
    {
     "data": {
      "text/plain": [
       "'{\\'RestaurantsTableService\\': \\'True\\', \\'WiFi\\': \"u\\'free\\'\", \\'BikeParking\\': \\'True\\', \\'BusinessParking\\': \"{\\'garage\\': False, \\'street\\': True, \\'validated\\': False, \\'lot\\': False, \\'valet\\': False}\", \\'BusinessAcceptsCreditCards\\': \\'True\\', \\'RestaurantsReservations\\': \\'False\\', \\'WheelchairAccessible\\': \\'True\\', \\'Caters\\': \\'True\\', \\'OutdoorSeating\\': \\'True\\', \\'RestaurantsGoodForGroups\\': \\'True\\', \\'HappyHour\\': \\'True\\', \\'BusinessAcceptsBitcoin\\': \\'False\\', \\'RestaurantsPriceRange2\\': \\'2\\', \\'Ambience\\': \"{\\'touristy\\': False, \\'hipster\\': False, \\'romantic\\': False, \\'divey\\': False, \\'intimate\\': False, \\'trendy\\': False, \\'upscale\\': False, \\'classy\\': False, \\'casual\\': True}\", \\'HasTV\\': \\'True\\', \\'Alcohol\\': \"\\'beer_and_wine\\'\", \\'GoodForMeal\\': \"{\\'dessert\\': False, \\'latenight\\': False, \\'lunch\\': False, \\'dinner\\': False, \\'brunch\\': False, \\'breakfast\\': False}\", \\'DogsAllowed\\': \\'False\\', \\'RestaurantsTakeOut\\': \\'True\\', \\'NoiseLevel\\': \"u\\'average\\'\", \\'RestaurantsAttire\\': \"\\'casual\\'\", \\'RestaurantsDelivery\\': \\'None\\'}'"
      ]
     },
     "execution_count": 10,
     "metadata": {},
     "output_type": "execute_result"
    }
   ],
   "source": [
    "test.attributes[0]"
   ]
  },
  {
   "cell_type": "code",
   "execution_count": null,
   "metadata": {},
   "outputs": [],
   "source": []
  }
 ],
 "metadata": {
  "kernelspec": {
   "display_name": "Python 3",
   "language": "python",
   "name": "python3"
  },
  "language_info": {
   "codemirror_mode": {
    "name": "ipython",
    "version": 3
   },
   "file_extension": ".py",
   "mimetype": "text/x-python",
   "name": "python",
   "nbconvert_exporter": "python",
   "pygments_lexer": "ipython3",
   "version": "3.8.3"
  }
 },
 "nbformat": 4,
 "nbformat_minor": 4
}
