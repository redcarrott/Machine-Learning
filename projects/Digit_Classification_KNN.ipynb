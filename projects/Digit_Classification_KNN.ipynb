{
 "cells": [
  {
   "cell_type": "markdown",
   "metadata": {
    "id": "iNALzZOKTzOS"
   },
   "source": [
    "\n",
    "# Project 1: Digit Classification with KNN\n"
   ]
  },
  {
   "cell_type": "markdown",
   "metadata": {
    "id": "EBRkdIUUTzOV"
   },
   "source": [
    "# Intro\n",
    "---\n",
    "In this project, you'll implement your own image recognition system for classifying digits. Read through the code and the instructions carefully and add your own code where indicated. Each problem can be addressed succinctly with the included packages -- please don't add any more. \n",
    "As always, you're welcome to work on the project in groups and discuss ideas over Slack, but <b> please prepare your own write-up (with your own code). </b> To be safe, please credit any sources used.\n",
    "\n",
    "\n",
    "## Grading\n",
    "---\n",
    " - Make sure to answer every part in every question.\n",
    " - There are 5 questions, each worth an equal number of points.\n",
    " - Read carefully what is asked including the notes.\n",
    " - Additional points may be deducted if:\n",
    "   - the code is not clean or is not well commented\n",
    "   - the functions or answers are excessively long\n",
    "\n",
    "## Requirements:\n",
    "---\n",
    "1. Comment your code.\n",
    "1. Each graph should have a title, labels for each axis, and (if needed) a legend. Each graph should be understandable on its own.\n",
    "1. All code must run on colab.research.google.com\n",
    "1. You should not import any additional libraries.\n",
    "1. Try and minimize the use of the global namespace (meaning, keep things inside functions).\n",
    "\n",
    "## Additional reading and notes\n",
    "---\n",
    "\n",
    "If you are looking to get started with Tensorflow, you can read through this tutorial: https://www.tensorflow.org/tutorials/keras/classification. It uses a dataset called \"fashion_mnist\", which is identical in structure to the original digit mnist, but uses images of clothing rather than images of digits. The number of training examples and number of labels is the same. In fact, you can simply replace the code that loads \"fashion_mnist\" with \"mnist\" and everything should work fine.\n",
    "\n",
    "Additionally, if you're interested, check out these links related to digit recognition:\n",
    "\n",
    "* Yann Lecun's MNIST benchmarks: http://yann.lecun.com/exdb/mnist/\n",
    "* Stanford Streetview research and data: http://ufldl.stanford.edu/housenumbers/"
   ]
  },
  {
   "cell_type": "code",
   "execution_count": 1,
   "metadata": {
    "id": "r8u7GmsDTzOX"
   },
   "outputs": [],
   "source": [
    "# This tells matplotlib not to try opening a new window for each plot.\n",
    "%matplotlib inline\n",
    "\n",
    "# Import a bunch of libraries.\n",
    "import time\n",
    "import numpy as np\n",
    "import pandas as pd\n",
    "import matplotlib.pyplot as plt\n",
    "from matplotlib.ticker import MultipleLocator\n",
    "from sklearn.pipeline import Pipeline\n",
    "from sklearn.datasets import fetch_openml\n",
    "from sklearn.neighbors import KNeighborsClassifier\n",
    "from sklearn.metrics import confusion_matrix\n",
    "from sklearn.linear_model import LinearRegression\n",
    "from sklearn.naive_bayes import BernoulliNB\n",
    "from sklearn.naive_bayes import MultinomialNB\n",
    "from sklearn.naive_bayes import GaussianNB\n",
    "from sklearn.model_selection import GridSearchCV\n",
    "from sklearn.metrics import classification_report\n",
    "\n",
    "# Set the randomizer seed so results are the same each time.\n",
    "np.random.seed(0)"
   ]
  },
  {
   "cell_type": "code",
   "execution_count": 2,
   "metadata": {
    "id": "bWOWoq_dTzOY"
   },
   "outputs": [
    {
     "data": {
      "text/plain": [
       "'0.24.1'"
      ]
     },
     "execution_count": 2,
     "metadata": {},
     "output_type": "execute_result"
    }
   ],
   "source": [
    "import sklearn\n",
    "sklearn.__version__"
   ]
  },
  {
   "cell_type": "markdown",
   "metadata": {
    "id": "J1-CAjA9TzOa"
   },
   "source": [
    "Load the data. Notice that the data gets partitioned into training, development, and test sets. Also, a small subset of the training data called mini_train_data and mini_train_labels gets defined, which you should use in all the experiments below, unless otherwise noted."
   ]
  },
  {
   "cell_type": "code",
   "execution_count": 3,
   "metadata": {},
   "outputs": [
    {
     "data": {
      "text/html": [
       "<div>\n",
       "<style scoped>\n",
       "    .dataframe tbody tr th:only-of-type {\n",
       "        vertical-align: middle;\n",
       "    }\n",
       "\n",
       "    .dataframe tbody tr th {\n",
       "        vertical-align: top;\n",
       "    }\n",
       "\n",
       "    .dataframe thead th {\n",
       "        text-align: right;\n",
       "    }\n",
       "</style>\n",
       "<table border=\"1\" class=\"dataframe\">\n",
       "  <thead>\n",
       "    <tr style=\"text-align: right;\">\n",
       "      <th></th>\n",
       "      <th>pixel1</th>\n",
       "      <th>pixel2</th>\n",
       "      <th>pixel3</th>\n",
       "      <th>pixel4</th>\n",
       "      <th>pixel5</th>\n",
       "      <th>pixel6</th>\n",
       "      <th>pixel7</th>\n",
       "      <th>pixel8</th>\n",
       "      <th>pixel9</th>\n",
       "      <th>pixel10</th>\n",
       "      <th>...</th>\n",
       "      <th>pixel776</th>\n",
       "      <th>pixel777</th>\n",
       "      <th>pixel778</th>\n",
       "      <th>pixel779</th>\n",
       "      <th>pixel780</th>\n",
       "      <th>pixel781</th>\n",
       "      <th>pixel782</th>\n",
       "      <th>pixel783</th>\n",
       "      <th>pixel784</th>\n",
       "      <th>class</th>\n",
       "    </tr>\n",
       "  </thead>\n",
       "  <tbody>\n",
       "    <tr>\n",
       "      <th>0</th>\n",
       "      <td>0</td>\n",
       "      <td>0</td>\n",
       "      <td>0</td>\n",
       "      <td>0</td>\n",
       "      <td>0</td>\n",
       "      <td>0</td>\n",
       "      <td>0</td>\n",
       "      <td>0</td>\n",
       "      <td>0</td>\n",
       "      <td>0</td>\n",
       "      <td>...</td>\n",
       "      <td>0</td>\n",
       "      <td>0</td>\n",
       "      <td>0</td>\n",
       "      <td>0</td>\n",
       "      <td>0</td>\n",
       "      <td>0</td>\n",
       "      <td>0</td>\n",
       "      <td>0</td>\n",
       "      <td>0</td>\n",
       "      <td>5</td>\n",
       "    </tr>\n",
       "    <tr>\n",
       "      <th>1</th>\n",
       "      <td>0</td>\n",
       "      <td>0</td>\n",
       "      <td>0</td>\n",
       "      <td>0</td>\n",
       "      <td>0</td>\n",
       "      <td>0</td>\n",
       "      <td>0</td>\n",
       "      <td>0</td>\n",
       "      <td>0</td>\n",
       "      <td>0</td>\n",
       "      <td>...</td>\n",
       "      <td>0</td>\n",
       "      <td>0</td>\n",
       "      <td>0</td>\n",
       "      <td>0</td>\n",
       "      <td>0</td>\n",
       "      <td>0</td>\n",
       "      <td>0</td>\n",
       "      <td>0</td>\n",
       "      <td>0</td>\n",
       "      <td>0</td>\n",
       "    </tr>\n",
       "    <tr>\n",
       "      <th>2</th>\n",
       "      <td>0</td>\n",
       "      <td>0</td>\n",
       "      <td>0</td>\n",
       "      <td>0</td>\n",
       "      <td>0</td>\n",
       "      <td>0</td>\n",
       "      <td>0</td>\n",
       "      <td>0</td>\n",
       "      <td>0</td>\n",
       "      <td>0</td>\n",
       "      <td>...</td>\n",
       "      <td>0</td>\n",
       "      <td>0</td>\n",
       "      <td>0</td>\n",
       "      <td>0</td>\n",
       "      <td>0</td>\n",
       "      <td>0</td>\n",
       "      <td>0</td>\n",
       "      <td>0</td>\n",
       "      <td>0</td>\n",
       "      <td>4</td>\n",
       "    </tr>\n",
       "    <tr>\n",
       "      <th>3</th>\n",
       "      <td>0</td>\n",
       "      <td>0</td>\n",
       "      <td>0</td>\n",
       "      <td>0</td>\n",
       "      <td>0</td>\n",
       "      <td>0</td>\n",
       "      <td>0</td>\n",
       "      <td>0</td>\n",
       "      <td>0</td>\n",
       "      <td>0</td>\n",
       "      <td>...</td>\n",
       "      <td>0</td>\n",
       "      <td>0</td>\n",
       "      <td>0</td>\n",
       "      <td>0</td>\n",
       "      <td>0</td>\n",
       "      <td>0</td>\n",
       "      <td>0</td>\n",
       "      <td>0</td>\n",
       "      <td>0</td>\n",
       "      <td>1</td>\n",
       "    </tr>\n",
       "    <tr>\n",
       "      <th>4</th>\n",
       "      <td>0</td>\n",
       "      <td>0</td>\n",
       "      <td>0</td>\n",
       "      <td>0</td>\n",
       "      <td>0</td>\n",
       "      <td>0</td>\n",
       "      <td>0</td>\n",
       "      <td>0</td>\n",
       "      <td>0</td>\n",
       "      <td>0</td>\n",
       "      <td>...</td>\n",
       "      <td>0</td>\n",
       "      <td>0</td>\n",
       "      <td>0</td>\n",
       "      <td>0</td>\n",
       "      <td>0</td>\n",
       "      <td>0</td>\n",
       "      <td>0</td>\n",
       "      <td>0</td>\n",
       "      <td>0</td>\n",
       "      <td>9</td>\n",
       "    </tr>\n",
       "  </tbody>\n",
       "</table>\n",
       "<p>5 rows × 785 columns</p>\n",
       "</div>"
      ],
      "text/plain": [
       "   pixel1  pixel2  pixel3  pixel4  pixel5  pixel6  pixel7  pixel8  pixel9  \\\n",
       "0       0       0       0       0       0       0       0       0       0   \n",
       "1       0       0       0       0       0       0       0       0       0   \n",
       "2       0       0       0       0       0       0       0       0       0   \n",
       "3       0       0       0       0       0       0       0       0       0   \n",
       "4       0       0       0       0       0       0       0       0       0   \n",
       "\n",
       "   pixel10  ...  pixel776  pixel777  pixel778  pixel779  pixel780  pixel781  \\\n",
       "0        0  ...         0         0         0         0         0         0   \n",
       "1        0  ...         0         0         0         0         0         0   \n",
       "2        0  ...         0         0         0         0         0         0   \n",
       "3        0  ...         0         0         0         0         0         0   \n",
       "4        0  ...         0         0         0         0         0         0   \n",
       "\n",
       "   pixel782  pixel783  pixel784  class  \n",
       "0         0         0         0      5  \n",
       "1         0         0         0      0  \n",
       "2         0         0         0      4  \n",
       "3         0         0         0      1  \n",
       "4         0         0         0      9  \n",
       "\n",
       "[5 rows x 785 columns]"
      ]
     },
     "execution_count": 3,
     "metadata": {},
     "output_type": "execute_result"
    }
   ],
   "source": [
    "xxdata = pd.read_csv(\"mnist_784.csv\")\n",
    "xxdata.head()"
   ]
  },
  {
   "cell_type": "code",
   "execution_count": 4,
   "metadata": {
    "id": "f9kPmCW0TzOb"
   },
   "outputs": [
    {
     "name": "stdout",
     "output_type": "stream",
     "text": [
      "data shape:  (70000, 784)\n",
      "label shape: (70000,)\n"
     ]
    }
   ],
   "source": [
    "# Load the digit data from https://www.openml.org/d/554 or from default local location '~/scikit_learn_data/...'\n",
    "X, Y = fetch_openml(name='mnist_784', return_X_y=True, cache=False, as_frame = False)\n",
    "\n",
    "# Rescale grayscale values to [0,1].a\n",
    "X = X / 255.0\n",
    "\n",
    "# Shuffle the input: create a random permutation of the integers between 0 and the number of data points and apply this\n",
    "# permutation to X and Y.\n",
    "# NOTE: Each time you run this cell, you'll re-shuffle the data, resulting in a different ordering.\n",
    "shuffle = np.random.permutation(np.arange(X.shape[0]))\n",
    "X, Y = X[shuffle], Y[shuffle]\n",
    "\n",
    "print('data shape: ', X.shape)\n",
    "print('label shape:', Y.shape)\n",
    "\n",
    "# Set some variables to hold test, dev, and training data.\n",
    "test_data, test_labels = X[61000:], Y[61000:]\n",
    "dev_data, dev_labels = X[60000:61000], Y[60000:61000]\n",
    "train_data, train_labels = X[:60000], Y[:60000]\n",
    "mini_train_data, mini_train_labels = X[:1000], Y[:1000]"
   ]
  },
  {
   "cell_type": "markdown",
   "metadata": {
    "id": "qmZBWyLoTzOc"
   },
   "source": [
    "### Question 1: Visualize a select sample of images\n",
    "---\n",
    "Show a 10x10 grid that visualizes 10 examples of each digit.\n",
    "\n",
    "Notes:\n",
    "* Make the digits nice and big.\n",
    "* You can use `plt.rc()` for setting the colormap, for example to black and white.\n",
    "* You can use `plt.subplot()` for creating subplots.\n",
    "* You can use `plt.imshow()` for rendering a matrix.\n",
    "* You can use `np.array.reshape()` for reshaping a 1D feature vector into a 2D matrix (for rendering)."
   ]
  },
  {
   "cell_type": "code",
   "execution_count": 5,
   "metadata": {},
   "outputs": [
    {
     "data": {
      "text/plain": [
       "array([], shape=(0, 784), dtype=float64)"
      ]
     },
     "execution_count": 5,
     "metadata": {},
     "output_type": "execute_result"
    }
   ],
   "source": [
    "mini_train_data[mini_train_labels == 2]"
   ]
  },
  {
   "cell_type": "code",
   "execution_count": 6,
   "metadata": {
    "id": "ZUzDN1meTzOd"
   },
   "outputs": [
    {
     "data": {
      "image/png": "[encoded data removed]",
      "text/plain": [
       "<Figure size 432x288 with 100 Axes>"
      ]
     },
     "metadata": {
      "needs_background": "light"
     },
     "output_type": "display_data"
    }
   ],
   "source": [
    "def Q1(num_examples=10):\n",
    "    \n",
    "    ### STUDENT START ###\n",
    "    \n",
    "    # creating and indexing subplot rows so that it prints in order\n",
    "    row_index = 0\n",
    "    \n",
    "    # incrementing through each number (from 0 to 9) to show grid\n",
    "    for num in range(10):\n",
    "        \n",
    "        for image in range(num_examples):\n",
    "            row_index += 1\n",
    "            plt.subplot(10, num_examples, row_index)\n",
    "            plt.axis(\"off\")\n",
    "            \n",
    "            # reshape for bigger image\n",
    "            plt.imshow(mini_train_data[image].reshape(28,28), cmap=plt.cm.gray_r)\n",
    "    \n",
    "    ### STUDENT END ###\n",
    "\n",
    "Q1(10)"
   ]
  },
  {
   "cell_type": "markdown",
   "metadata": {
    "id": "s7PNhljcTzOe"
   },
   "source": [
    "### Question 2: Evaluating different choices of k\n",
    "---\n",
    "\n",
    "1. Produce k-Nearest Neighbors models with k = 1, 3, 5, 7, and 9.  \n",
    "1. Print the accuracy of each model. \n",
    "1. Additionally, only for the 1-Nearest Neighbor model, show the precision, recall, and F1 for each label. \n",
    "1. Which digit is the most *difficult* for the 1-Nearest Neighbor model to classify correctly? How did you choose and why?\n",
    "\n",
    "Notes:\n",
    "* Train on the mini train set.\n",
    "* Evaluate performance on the dev set.\n",
    "* Print only the information asked so it is easy to read and compare.\n",
    "* You can use `KNeighborsClassifier` to produce a k-nearest neighbor model.\n",
    "* You can use `classification_report` to get precision, recall, and F1 results.\n",
    "* Check out what the function \"score\" does."
   ]
  },
  {
   "cell_type": "code",
   "execution_count": 7,
   "metadata": {
    "id": "PQD0u7d_TzOf"
   },
   "outputs": [],
   "source": [
    "def Q2(k_values):\n",
    "    ### STUDENT START ###\n",
    "    \n",
    "    for k in k_values:\n",
    "        \n",
    "        # create the model for k\n",
    "        model = KNeighborsClassifier(n_neighbors = k)\n",
    "        \n",
    "        # fit the model with the training data\n",
    "        model.fit(mini_train_data, mini_train_labels)\n",
    "        \n",
    "        # predict the development data\n",
    "        dev_predicted_labels = model.predict(dev_data)\n",
    "        \n",
    "        # print out the accuracies\n",
    "        print(\"For k =\", k, \", the accuracy is:\", model.score(dev_data, dev_labels))\n",
    "        \n",
    "        # for k = 1, print precision, recall, F1 for each label\n",
    "        if k == 1:\n",
    "            print(classification_report(dev_labels, dev_predicted_labels))\n",
    "    ### STUDENT END ###"
   ]
  },
  {
   "cell_type": "code",
   "execution_count": 8,
   "metadata": {},
   "outputs": [
    {
     "name": "stdout",
     "output_type": "stream",
     "text": [
      "For k = 1 , the accuracy is: 0.884\n",
      "              precision    recall  f1-score   support\n",
      "\n",
      "           0       0.95      0.95      0.95       106\n",
      "           1       0.89      0.98      0.93       118\n",
      "           2       0.90      0.79      0.84       106\n",
      "           3       0.93      0.87      0.90        97\n",
      "           4       0.91      0.85      0.88        92\n",
      "           5       0.86      0.88      0.87        88\n",
      "           6       0.92      0.92      0.92       102\n",
      "           7       0.85      0.94      0.89       102\n",
      "           8       0.83      0.77      0.80        94\n",
      "           9       0.80      0.86      0.83        95\n",
      "\n",
      "    accuracy                           0.88      1000\n",
      "   macro avg       0.88      0.88      0.88      1000\n",
      "weighted avg       0.89      0.88      0.88      1000\n",
      "\n",
      "For k = 3 , the accuracy is: 0.876\n",
      "For k = 5 , the accuracy is: 0.882\n",
      "For k = 7 , the accuracy is: 0.877\n",
      "For k = 9 , the accuracy is: 0.875\n"
     ]
    }
   ],
   "source": [
    "k_values = [1, 3, 5, 7, 9]\n",
    "Q2(k_values)"
   ]
  },
  {
   "cell_type": "markdown",
   "metadata": {
    "id": "rkwwb2hHTzOg"
   },
   "source": [
    "Answer to part 4: The the most difficult for the 1-Nearest Neighbor model to classify correctly is number 8, because it has the lowest F1-score, which considers both precision and recall; even though number 9 has the lowest precision."
   ]
  },
  {
   "cell_type": "markdown",
   "metadata": {
    "id": "C2VPQ9CbTzOh"
   },
   "source": [
    "### Question 3: Examining the importance of training size\n",
    "---\n",
    "1. Produce 1-Nearest Neighbor models using training data of various sizes. For example, ```train_data[:train_size]```.\n",
    "1. Evaluate and show the accuracy achieved by each model.  \n",
    "1. Show the time needed to: \n",
    "  1. Train each model.\n",
    "  1. Measure the accuracy of each model.\n",
    "1. What do you see? Is this what you expected to see and why?\n",
    "1. Plot on the same graph (as a function of training size):\n",
    "  1. the time needed for training\n",
    "  1. the time needed for calculating accuracy\n",
    "\n",
    "Notes:\n",
    "* Evaluate on the dev set.\n",
    "* You can use `KNeighborsClassifier` to produce a k-nearest neighbor model.\n",
    "* You can use `time.time()` to measure elapsed time of operations."
   ]
  },
  {
   "cell_type": "code",
   "execution_count": 9,
   "metadata": {
    "id": "8FLREmbUTzOh",
    "scrolled": true
   },
   "outputs": [
    {
     "name": "stdout",
     "output_type": "stream",
     "text": [
      "For training data size 100 , the model accuracy is: 0.702\n",
      "For training data size 200 , the model accuracy is: 0.791\n",
      "For training data size 400 , the model accuracy is: 0.811\n",
      "For training data size 800 , the model accuracy is: 0.866\n",
      "For training data size 1600 , the model accuracy is: 0.905\n",
      "For training data size 3200 , the model accuracy is: 0.927\n",
      "For training data size 6400 , the model accuracy is: 0.939\n",
      "For training data size 12800 , the model accuracy is: 0.952\n",
      "For training data size 25600 , the model accuracy is: 0.963\n"
     ]
    }
   ],
   "source": [
    "def Q3(train_sizes, accuracies, train_times, eval_times):\n",
    "    ### STUDENT START ###\n",
    "    \n",
    "    # loop through each of the train_sizes\n",
    "    for size in train_sizes:\n",
    "        \n",
    "        # create the k = 1 Nearest Neighbor model & record training time\n",
    "        train_initial = time.time()\n",
    "        NN_model = KNeighborsClassifier(n_neighbors = 1)\n",
    "        NN_model.fit(train_data[:size], train_labels[:size])\n",
    "        train_final = time.time()\n",
    "        train_times.append(train_final - train_initial)\n",
    "        \n",
    "        # predicting, calculate accuracy & record eval_times\n",
    "        eval_initial = time.time()\n",
    "        test_predicted_labels = NN_model.predict(dev_data)\n",
    "        eval_final = time.time()\n",
    "        eval_times.append(eval_final - eval_initial)\n",
    "        accuracy = NN_model.score(dev_data, dev_labels)\n",
    "        \n",
    "        print(\"For training data size\", size, \", the model accuracy is:\", accuracy)\n",
    "        #print(\"train_time:\", train_final - train_initial)\n",
    "        #print(\"eval_time:\", eval_final - eval_initial)\n",
    "        \n",
    "        # append to the accuracies\n",
    "        accuracies.append(accuracy)\n",
    "        \n",
    "    \n",
    "    ### STUDENT END ###\n",
    "\n",
    "train_sizes = [100, 200, 400, 800, 1600, 3200, 6400, 12800, 25600]\n",
    "accuracies = []\n",
    "train_times = []\n",
    "eval_times = []\n",
    "Q3(train_sizes, accuracies, train_times, eval_times)"
   ]
  },
  {
   "cell_type": "code",
   "execution_count": 10,
   "metadata": {},
   "outputs": [
    {
     "data": {
      "image/png": "[encoded data removed]",
      "text/plain": [
       "<Figure size 432x288 with 2 Axes>"
      ]
     },
     "metadata": {
      "needs_background": "light"
     },
     "output_type": "display_data"
    }
   ],
   "source": [
    "fig,ax = plt.subplots()\n",
    "\n",
    "ax.plot(train_sizes, train_times, color=\"red\")\n",
    "ax.set_xlabel(\"Training Data size\")\n",
    "ax.set_ylabel(\"Train Time\", color=\"red\")\n",
    "\n",
    "ax2 = ax.twinx()\n",
    "ax2.plot(train_sizes, eval_times, color='blue')\n",
    "ax2.set_ylabel(\"Eval Time\", color='blue')\n",
    "plt.show()"
   ]
  },
  {
   "cell_type": "markdown",
   "metadata": {
    "id": "7RvpMWezTzOi"
   },
   "source": [
    "### Question 4: Evaluating if we should obtain additional data\n",
    "---\n",
    "\n",
    "In this question we wish to predict what accuracy we would get if we had additional training data.\n",
    "\n",
    "Our input, our features and labels, are the output from the previous question. Based on the training size and accuracy we got in the previous question, we wish to predict the accuracy we would get if we had larger training sizes.\n",
    "\n",
    "1. Produce a linear regression model that predicts accuracy of a 1-Nearest Neighbor model given training set size. \n",
    "1. Print $R^2$ of the linear regression model.  \n",
    "1. Print the accuracies predicted for training set sizes 60000, 120000, and 1000000.  \n",
    "1. Plot on a lineplot graph:\n",
    "  1. the actual accuracies we obtained in the previous question \n",
    "  1. and the accuracies our model predicted we would have gotten.\n",
    "  1. The X axis is the training set size. \n",
    "  1. You can limit the range of X and Y to the range where you have data for both plots. Meaning, in the this question, we want to visualize how good the prediction is.\n",
    "1. What are two things that are wrong with our model?\n",
    "1. Apply a transformation to the predictor features and a transformation to the outcome that make the predictions fix these issues. \n",
    "1. Show $R^2$ of the improved linear regression model.  \n",
    "1. Print the accuracies predicted for training set sizes 60000, 120000, and 1000000.  \n",
    "1. Plot a lineplot graph of both again as before.\n",
    "  1. Be sure to plot this where the Y axis is accuracy and X axis is training set size, **not the transformed space**!\n",
    "  1. Choose the range of X and Y to visualize effectively.\n",
    "\n",
    "Notes:\n",
    "* Train the linear regression models on all of the (transformed) accuracies estimated in Problem 3.\n",
    "* Evaluate the linear regression models on all of the (transformed) accuracies estimated in Problem 3.\n",
    "* You can use `LinearRegression` to produce a linear regression model.\n",
    "* Remember that the sklearn `fit()` functions take an input matrix X and output vector Y. So, each input example in X is a vector, even if it contains only a single value.\n",
    "* Hints:\n",
    "  1. You have two problems here, how well your model fits and predicting *illogical* values of accuracy.\n",
    "  1. You can look at:\n",
    "    1. [logit](https://en.wikipedia.org/wiki/Logit): $\\frac{1}{1 + e^{-x}} = \\frac{e^x}{1+e^x}$ which takes numbers in $\\[\\infty,-\\infty\\]$ and outputs numbers in $(0, 1)$.\n",
    "    1. [logistic](https://en.wikipedia.org/wiki/Logistic_function): $log(\\frac{p}{1 - p})$ which takes numbers between $(0, 1)$ and outputs numbers between $\\[\\infty,-\\infty\\]$.\n",
    "    1. It also happens that $x = logistic(p)$ is the same thing as $logit(x)=p$."
   ]
  },
  {
   "cell_type": "code",
   "execution_count": 11,
   "metadata": {
    "id": "z-mIFqcfTzOi"
   },
   "outputs": [
    {
     "name": "stdout",
     "output_type": "stream",
     "text": [
      "LINEAR REGRESSION MODEL\n",
      "R^2 = 0.4177\n",
      "Training set size 60,000 accuracy: [1.23617317]\n",
      "Training set size 120,000 accuracy: [1.63742805]\n",
      "Training set size 1,000,000 accuracy: [7.52249967]\n"
     ]
    },
    {
     "data": {
      "image/png": "[encoded data removed]",
      "text/plain": [
       "<Figure size 432x288 with 1 Axes>"
      ]
     },
     "metadata": {
      "needs_background": "light"
     },
     "output_type": "display_data"
    },
    {
     "name": "stdout",
     "output_type": "stream",
     "text": [
      "TRANSFORMED X (log(X)) LINEAR REGRESSION MODEL\n",
      "R^2 = -145670476.4800\n",
      "Training set size 60,000 accuracy: [1.03358792]\n",
      "Training set size 120,000 accuracy: [1.06432125]\n",
      "Training set size 1,000,000 accuracy: [1.15833125]\n"
     ]
    },
    {
     "data": {
      "image/png": "[encoded data removed]",
      "text/plain": [
       "<Figure size 432x288 with 1 Axes>"
      ]
     },
     "metadata": {
      "needs_background": "light"
     },
     "output_type": "display_data"
    }
   ],
   "source": [
    "def Q4():\n",
    "    ### STUDENT START ###\n",
    "    \n",
    "    # establishing input and output data\n",
    "    input_X = np.array(train_sizes).reshape(-1, 1)\n",
    "    output_Y = np.array(accuracies)\n",
    "    \n",
    "    # linear regression model\n",
    "    lr_model = LinearRegression()\n",
    "    lr_model.fit(input_X, output_Y)\n",
    "    # printing R2, accuracies for training set sizes 60000, 120000, and 1000000\n",
    "    print(\"LINEAR REGRESSION MODEL\")\n",
    "    print('R^2 = %.4f' % (lr_model.score(input_X, output_Y)))\n",
    "    more_accuracies = []\n",
    "    print('Training set size 60,000 accuracy:', lr_model.predict(np.array(60000).reshape(1,1)))\n",
    "    more_accuracies.append(lr_model.predict(np.array(60000).reshape(1,1)))\n",
    "    print('Training set size 120,000 accuracy:', lr_model.predict(np.array(120000).reshape(1,1)))\n",
    "    more_accuracies.append(lr_model.predict(np.array(120000).reshape(1,1)))\n",
    "    print('Training set size 1,000,000 accuracy:', lr_model.predict(np.array(1000000).reshape(1,1)))\n",
    "    more_accuracies.append(lr_model.predict(np.array(1000000).reshape(1,1)))\n",
    "    #print(more_accuracies)\n",
    "    \n",
    "    # lineplot graph of actual accuracies & accuracies our model predicted we would have gotten\n",
    "    # X axis is training set size\n",
    "    more_trainsizes = [60000, 120000, 1000000]\n",
    "    plt.plot(train_sizes, accuracies, more_trainsizes, more_accuracies)\n",
    "    plt.xlim([500, 100000])\n",
    "    plt.ylim([.5, 1.5])\n",
    "    plt.title(\"Lineplot of actual accuracies & Linear Regression model prediction\")\n",
    "    plt.xlabel(\"Training Set Sizes\")\n",
    "    plt.ylabel(\"Accuracies\")\n",
    "    plt.show()\n",
    "    \n",
    "    # applying transformation\n",
    "    X_log = np.log10(input_X).reshape(-1, 1)\n",
    "    output_Y = np.array(accuracies)\n",
    "    lr_model.fit(X_log, output_Y)\n",
    "    # printing R2, accuracies for training set sizes 60000, 120000, and 1000000\n",
    "    print(\"TRANSFORMED X (log(X)) LINEAR REGRESSION MODEL\")\n",
    "    print('R^2 = %.4f' % (lr_model.score(input_X, output_Y)))\n",
    "    more_accuracies = []\n",
    "    print('Training set size 60,000 accuracy:', lr_model.predict(np.array(np.log10(60000)).reshape(1,1)))\n",
    "    more_accuracies.append(lr_model.predict(np.array(np.log10(60000)).reshape(1,1)))\n",
    "    print('Training set size 120,000 accuracy:', lr_model.predict(np.array(np.log10(120000)).reshape(1,1)))\n",
    "    more_accuracies.append(lr_model.predict(np.array(np.log10(120000)).reshape(1,1)))\n",
    "    print('Training set size 1,000,000 accuracy:', lr_model.predict(np.array(np.log10(1000000)).reshape(1,1)))\n",
    "    more_accuracies.append(lr_model.predict(np.array(np.log10(1000000)).reshape(1,1)))\n",
    "    \n",
    "    # lineplot graph of actual accuracies & accuracies our model predicted we would have gotten\n",
    "    # X axis is training set size\n",
    "    more_trainsizes = [60000, 120000, 1000000]\n",
    "    plt.plot(train_sizes, accuracies, more_trainsizes, more_accuracies)\n",
    "    #plt.xlim([500, 100000])\n",
    "    #plt.ylim([.5, 1.5])\n",
    "    plt.title(\"Lineplot of actual accuracies & Linear Regression model prediction\")\n",
    "    plt.xlabel(\"Training Set Sizes\")\n",
    "    plt.ylabel(\"Accuracies\")\n",
    "    plt.show()\n",
    "    \n",
    "    ### STUDENT END ###\n",
    "\n",
    "Q4()"
   ]
  },
  {
   "cell_type": "markdown",
   "metadata": {
    "id": "pcYwq2H5TzOj"
   },
   "source": [
    "Answer to part 5:  Our model outputs that the accuracy is over 100%, which is not possible. Looking at the relationship between the training sizes and accuracy, there is a logarithmic relationship. Therefore, a linear regression (which is used to estimate linear relationships) would not work in this scenario. "
   ]
  },
  {
   "cell_type": "markdown",
   "metadata": {
    "id": "899CMYybTzOj"
   },
   "source": [
    "### Question 5: Getting to know the confusion matrix.\n",
    "---\n",
    "\n",
    "1. Produce a 1-Nearest Neighbor model.\n",
    "1. Show the confusion matrix. \n",
    "1. Which digit does the model most often confuse with which digit? (*for example, the model most often mistakes the digit $1$ as the digit $7$*).\n",
    "1. Show examples of the misclassified digit.\n",
    "\n",
    "Notes:\n",
    "- Train on the mini train set.\n",
    "- Evaluate performance on the dev set.\n",
    "- You can use `confusion_matrix()` to produce a confusion matrix.\n",
    "- No need to calculate the \"most confused digits\" programmatically."
   ]
  },
  {
   "cell_type": "code",
   "execution_count": 30,
   "metadata": {
    "id": "nRFrK4G9TzOk"
   },
   "outputs": [
    {
     "name": "stdout",
     "output_type": "stream",
     "text": [
      "[[101   0   1   0   0   0   1   1   2   0]\n",
      " [  0 116   1   0   0   0   0   0   1   0]\n",
      " [  1   4  84   2   2   0   2   4   6   1]\n",
      " [  0   2   0  84   0   6   0   2   3   0]\n",
      " [  0   0   1   0  78   0   0   2   0  11]\n",
      " [  2   0   0   1   1  77   5   0   2   0]\n",
      " [  1   2   1   0   1   2  94   0   1   0]\n",
      " [  0   1   1   0   0   0   0  96   0   4]\n",
      " [  1   5   4   3   1   3   0   1  72   4]\n",
      " [  0   1   0   0   3   2   0   7   0  82]]\n"
     ]
    },
    {
     "data": {
      "image/png": "[encoded data removed]",
      "text/plain": [
       "<Figure size 432x288 with 5 Axes>"
      ]
     },
     "metadata": {
      "needs_background": "light"
     },
     "output_type": "display_data"
    }
   ],
   "source": [
    "def Q5():\n",
    "    ### STUDENT START ###\n",
    "    \n",
    "    # create 1NN model\n",
    "    model = KNeighborsClassifier(n_neighbors = 1)\n",
    "    # train on mini train set\n",
    "    model.fit(mini_train_data, mini_train_labels)\n",
    "    # evaluate performance on dev set\n",
    "    dev_predict_labels = model.predict(dev_data)\n",
    "    \n",
    "    # show confusion matrix (CM)\n",
    "    CM = confusion_matrix(dev_labels, dev_predict_labels)\n",
    "    print(CM)\n",
    "    \n",
    "    # show examples of most confused digits 4 & 9\n",
    "    # sort all errors to figure out most confused digits\n",
    "    error_dict = {}\n",
    "    for i in range(len(dev_data)):\n",
    "        if dev_predict_labels[i] != dev_labels[i]:\n",
    "            # count tuples of incorrect assignments & store in dictionary \n",
    "            incorrect = (dev_predict_labels[i], dev_labels[i])\n",
    "            if incorrect in error_dict.keys():\n",
    "                error_dict[incorrect] += 1\n",
    "            else:\n",
    "                error_dict[incorrect] = 1\n",
    "    \n",
    "    #print(error_dict)\n",
    "    # sort to get most confused digit pair (predicted, actual)\n",
    "    error_sort = sorted(error_dict, key=error_dict.get, reverse=True)[:1]\n",
    "\n",
    "    # show first 5 examples of the most misclassified digit\n",
    "    examples = np.where((dev_predict_labels == error_sort[0][1]) & (dev_labels == error_sort[0][1]))\n",
    "    columns = 0\n",
    "    \n",
    "    for ex in range(5):\n",
    "        columns += 1\n",
    "        plt.subplot(1, len(examples[0]), columns)\n",
    "        plt.axis('off')\n",
    "        \n",
    "        plt.imshow(dev_data[ex].reshape(28, 28), cmap=plt.cm.gray_r, aspect='auto')\n",
    "    \n",
    "    ### STUDENT END ###\n",
    "\n",
    "Q5()\n"
   ]
  },
  {
   "cell_type": "markdown",
   "metadata": {
    "id": "f6x930p3TzOl"
   },
   "source": [
    "Answer to part 3: The model most often mistakes the digit 4 as the digit 9.\n"
   ]
  },
  {
   "cell_type": "markdown",
   "metadata": {
    "id": "iJoleVeatoRg"
   },
   "source": []
  }
 ],
 "metadata": {
  "colab": {
   "collapsed_sections": [],
   "name": "firstname_lastname_project1.ipynb",
   "provenance": []
  },
  "kernelspec": {
   "display_name": "Python 3",
   "language": "python",
   "name": "python3"
  },
  "language_info": {
   "codemirror_mode": {
    "name": "ipython",
    "version": 3
   },
   "file_extension": ".py",
   "mimetype": "text/x-python",
   "name": "python",
   "nbconvert_exporter": "python",
   "pygments_lexer": "ipython3",
   "version": "3.8.8"
  },
  "toc": {
   "base_numbering": 1,
   "nav_menu": {},
   "number_sections": false,
   "sideBar": true,
   "skip_h1_title": true,
   "title_cell": "Table of Contents",
   "title_sidebar": "Contents",
   "toc_cell": false,
   "toc_position": {},
   "toc_section_display": true,
   "toc_window_display": false
  }
 },
 "nbformat": 4,
 "nbformat_minor": 1
}
